{
  "nbformat": 4,
  "nbformat_minor": 0,
  "metadata": {
    "colab": {
      "provenance": [],
      "machine_shape": "hm",
      "gpuType": "A100"
    },
    "kernelspec": {
      "name": "python3",
      "display_name": "Python 3"
    },
    "language_info": {
      "name": "python"
    },
    "accelerator": "GPU"
  },
  "cells": [
    {
      "cell_type": "markdown",
      "source": [
        "# Purpose of the code"
      ],
      "metadata": {
        "id": "YENV8os2Fvag"
      }
    },
    {
      "cell_type": "markdown",
      "source": [
        "This code was used to find the FID and KID scores for the generated samples of each model configuration"
      ],
      "metadata": {
        "id": "D1MHKbEDFxcs"
      }
    },
    {
      "cell_type": "markdown",
      "source": [
        "# Install Clean-FID - Main Library used for scores"
      ],
      "metadata": {
        "id": "V781rypAFp97"
      }
    },
    {
      "cell_type": "code",
      "execution_count": null,
      "metadata": {
        "colab": {
          "base_uri": "https://localhost:8080/"
        },
        "id": "ip_gs4nGex3I",
        "outputId": "0097027f-600b-4808-ad12-3b0c3eaaa9b7"
      },
      "outputs": [
        {
          "output_type": "stream",
          "name": "stdout",
          "text": [
            "Collecting clean-fid\n",
            "  Downloading clean_fid-0.1.35-py3-none-any.whl.metadata (36 kB)\n",
            "Requirement already satisfied: torch in /usr/local/lib/python3.11/dist-packages (from clean-fid) (2.6.0+cu124)\n",
            "Requirement already satisfied: torchvision in /usr/local/lib/python3.11/dist-packages (from clean-fid) (0.21.0+cu124)\n",
            "Requirement already satisfied: numpy>=1.14.3 in /usr/local/lib/python3.11/dist-packages (from clean-fid) (2.0.2)\n",
            "Requirement already satisfied: scipy>=1.0.1 in /usr/local/lib/python3.11/dist-packages (from clean-fid) (1.14.1)\n",
            "Requirement already satisfied: tqdm>=4.28.1 in /usr/local/lib/python3.11/dist-packages (from clean-fid) (4.67.1)\n",
            "Requirement already satisfied: pillow>=8.1 in /usr/local/lib/python3.11/dist-packages (from clean-fid) (11.1.0)\n",
            "Requirement already satisfied: requests in /usr/local/lib/python3.11/dist-packages (from clean-fid) (2.32.3)\n",
            "Requirement already satisfied: charset-normalizer<4,>=2 in /usr/local/lib/python3.11/dist-packages (from requests->clean-fid) (3.4.1)\n",
            "Requirement already satisfied: idna<4,>=2.5 in /usr/local/lib/python3.11/dist-packages (from requests->clean-fid) (3.10)\n",
            "Requirement already satisfied: urllib3<3,>=1.21.1 in /usr/local/lib/python3.11/dist-packages (from requests->clean-fid) (2.3.0)\n",
            "Requirement already satisfied: certifi>=2017.4.17 in /usr/local/lib/python3.11/dist-packages (from requests->clean-fid) (2025.1.31)\n",
            "Requirement already satisfied: filelock in /usr/local/lib/python3.11/dist-packages (from torch->clean-fid) (3.18.0)\n",
            "Requirement already satisfied: typing-extensions>=4.10.0 in /usr/local/lib/python3.11/dist-packages (from torch->clean-fid) (4.13.2)\n",
            "Requirement already satisfied: networkx in /usr/local/lib/python3.11/dist-packages (from torch->clean-fid) (3.4.2)\n",
            "Requirement already satisfied: jinja2 in /usr/local/lib/python3.11/dist-packages (from torch->clean-fid) (3.1.6)\n",
            "Requirement already satisfied: fsspec in /usr/local/lib/python3.11/dist-packages (from torch->clean-fid) (2025.3.2)\n",
            "Collecting nvidia-cuda-nvrtc-cu12==12.4.127 (from torch->clean-fid)\n",
            "  Downloading nvidia_cuda_nvrtc_cu12-12.4.127-py3-none-manylinux2014_x86_64.whl.metadata (1.5 kB)\n",
            "Collecting nvidia-cuda-runtime-cu12==12.4.127 (from torch->clean-fid)\n",
            "  Downloading nvidia_cuda_runtime_cu12-12.4.127-py3-none-manylinux2014_x86_64.whl.metadata (1.5 kB)\n",
            "Collecting nvidia-cuda-cupti-cu12==12.4.127 (from torch->clean-fid)\n",
            "  Downloading nvidia_cuda_cupti_cu12-12.4.127-py3-none-manylinux2014_x86_64.whl.metadata (1.6 kB)\n",
            "Collecting nvidia-cudnn-cu12==9.1.0.70 (from torch->clean-fid)\n",
            "  Downloading nvidia_cudnn_cu12-9.1.0.70-py3-none-manylinux2014_x86_64.whl.metadata (1.6 kB)\n",
            "Collecting nvidia-cublas-cu12==12.4.5.8 (from torch->clean-fid)\n",
            "  Downloading nvidia_cublas_cu12-12.4.5.8-py3-none-manylinux2014_x86_64.whl.metadata (1.5 kB)\n",
            "Collecting nvidia-cufft-cu12==11.2.1.3 (from torch->clean-fid)\n",
            "  Downloading nvidia_cufft_cu12-11.2.1.3-py3-none-manylinux2014_x86_64.whl.metadata (1.5 kB)\n",
            "Collecting nvidia-curand-cu12==10.3.5.147 (from torch->clean-fid)\n",
            "  Downloading nvidia_curand_cu12-10.3.5.147-py3-none-manylinux2014_x86_64.whl.metadata (1.5 kB)\n",
            "Collecting nvidia-cusolver-cu12==11.6.1.9 (from torch->clean-fid)\n",
            "  Downloading nvidia_cusolver_cu12-11.6.1.9-py3-none-manylinux2014_x86_64.whl.metadata (1.6 kB)\n",
            "Collecting nvidia-cusparse-cu12==12.3.1.170 (from torch->clean-fid)\n",
            "  Downloading nvidia_cusparse_cu12-12.3.1.170-py3-none-manylinux2014_x86_64.whl.metadata (1.6 kB)\n",
            "Requirement already satisfied: nvidia-cusparselt-cu12==0.6.2 in /usr/local/lib/python3.11/dist-packages (from torch->clean-fid) (0.6.2)\n",
            "Requirement already satisfied: nvidia-nccl-cu12==2.21.5 in /usr/local/lib/python3.11/dist-packages (from torch->clean-fid) (2.21.5)\n",
            "Requirement already satisfied: nvidia-nvtx-cu12==12.4.127 in /usr/local/lib/python3.11/dist-packages (from torch->clean-fid) (12.4.127)\n",
            "Collecting nvidia-nvjitlink-cu12==12.4.127 (from torch->clean-fid)\n",
            "  Downloading nvidia_nvjitlink_cu12-12.4.127-py3-none-manylinux2014_x86_64.whl.metadata (1.5 kB)\n",
            "Requirement already satisfied: triton==3.2.0 in /usr/local/lib/python3.11/dist-packages (from torch->clean-fid) (3.2.0)\n",
            "Requirement already satisfied: sympy==1.13.1 in /usr/local/lib/python3.11/dist-packages (from torch->clean-fid) (1.13.1)\n",
            "Requirement already satisfied: mpmath<1.4,>=1.1.0 in /usr/local/lib/python3.11/dist-packages (from sympy==1.13.1->torch->clean-fid) (1.3.0)\n",
            "Requirement already satisfied: MarkupSafe>=2.0 in /usr/local/lib/python3.11/dist-packages (from jinja2->torch->clean-fid) (3.0.2)\n",
            "Downloading clean_fid-0.1.35-py3-none-any.whl (26 kB)\n",
            "Downloading nvidia_cublas_cu12-12.4.5.8-py3-none-manylinux2014_x86_64.whl (363.4 MB)\n",
            "\u001b[2K   \u001b[90m━━━━━━━━━━━━━━━━━━━━━━━━━━━━━━━━━━━━━━━━\u001b[0m \u001b[32m363.4/363.4 MB\u001b[0m \u001b[31m5.2 MB/s\u001b[0m eta \u001b[36m0:00:00\u001b[0m\n",
            "\u001b[?25hDownloading nvidia_cuda_cupti_cu12-12.4.127-py3-none-manylinux2014_x86_64.whl (13.8 MB)\n",
            "\u001b[2K   \u001b[90m━━━━━━━━━━━━━━━━━━━━━━━━━━━━━━━━━━━━━━━━\u001b[0m \u001b[32m13.8/13.8 MB\u001b[0m \u001b[31m128.2 MB/s\u001b[0m eta \u001b[36m0:00:00\u001b[0m\n",
            "\u001b[?25hDownloading nvidia_cuda_nvrtc_cu12-12.4.127-py3-none-manylinux2014_x86_64.whl (24.6 MB)\n",
            "\u001b[2K   \u001b[90m━━━━━━━━━━━━━━━━━━━━━━━━━━━━━━━━━━━━━━━━\u001b[0m \u001b[32m24.6/24.6 MB\u001b[0m \u001b[31m103.3 MB/s\u001b[0m eta \u001b[36m0:00:00\u001b[0m\n",
            "\u001b[?25hDownloading nvidia_cuda_runtime_cu12-12.4.127-py3-none-manylinux2014_x86_64.whl (883 kB)\n",
            "\u001b[2K   \u001b[90m━━━━━━━━━━━━━━━━━━━━━━━━━━━━━━━━━━━━━━━━\u001b[0m \u001b[32m883.7/883.7 kB\u001b[0m \u001b[31m64.1 MB/s\u001b[0m eta \u001b[36m0:00:00\u001b[0m\n",
            "\u001b[?25hDownloading nvidia_cudnn_cu12-9.1.0.70-py3-none-manylinux2014_x86_64.whl (664.8 MB)\n",
            "\u001b[2K   \u001b[90m━━━━━━━━━━━━━━━━━━━━━━━━━━━━━━━━━━━━━━━━\u001b[0m \u001b[32m664.8/664.8 MB\u001b[0m \u001b[31m1.7 MB/s\u001b[0m eta \u001b[36m0:00:00\u001b[0m\n",
            "\u001b[?25hDownloading nvidia_cufft_cu12-11.2.1.3-py3-none-manylinux2014_x86_64.whl (211.5 MB)\n",
            "\u001b[2K   \u001b[90m━━━━━━━━━━━━━━━━━━━━━━━━━━━━━━━━━━━━━━━━\u001b[0m \u001b[32m211.5/211.5 MB\u001b[0m \u001b[31m11.6 MB/s\u001b[0m eta \u001b[36m0:00:00\u001b[0m\n",
            "\u001b[?25hDownloading nvidia_curand_cu12-10.3.5.147-py3-none-manylinux2014_x86_64.whl (56.3 MB)\n",
            "\u001b[2K   \u001b[90m━━━━━━━━━━━━━━━━━━━━━━━━━━━━━━━━━━━━━━━━\u001b[0m \u001b[32m56.3/56.3 MB\u001b[0m \u001b[31m43.0 MB/s\u001b[0m eta \u001b[36m0:00:00\u001b[0m\n",
            "\u001b[?25hDownloading nvidia_cusolver_cu12-11.6.1.9-py3-none-manylinux2014_x86_64.whl (127.9 MB)\n",
            "\u001b[2K   \u001b[90m━━━━━━━━━━━━━━━━━━━━━━━━━━━━━━━━━━━━━━━━\u001b[0m \u001b[32m127.9/127.9 MB\u001b[0m \u001b[31m19.7 MB/s\u001b[0m eta \u001b[36m0:00:00\u001b[0m\n",
            "\u001b[?25hDownloading nvidia_cusparse_cu12-12.3.1.170-py3-none-manylinux2014_x86_64.whl (207.5 MB)\n",
            "\u001b[2K   \u001b[90m━━━━━━━━━━━━━━━━━━━━━━━━━━━━━━━━━━━━━━━━\u001b[0m \u001b[32m207.5/207.5 MB\u001b[0m \u001b[31m6.0 MB/s\u001b[0m eta \u001b[36m0:00:00\u001b[0m\n",
            "\u001b[?25hDownloading nvidia_nvjitlink_cu12-12.4.127-py3-none-manylinux2014_x86_64.whl (21.1 MB)\n",
            "\u001b[2K   \u001b[90m━━━━━━━━━━━━━━━━━━━━━━━━━━━━━━━━━━━━━━━━\u001b[0m \u001b[32m21.1/21.1 MB\u001b[0m \u001b[31m108.9 MB/s\u001b[0m eta \u001b[36m0:00:00\u001b[0m\n",
            "\u001b[?25hInstalling collected packages: nvidia-nvjitlink-cu12, nvidia-curand-cu12, nvidia-cufft-cu12, nvidia-cuda-runtime-cu12, nvidia-cuda-nvrtc-cu12, nvidia-cuda-cupti-cu12, nvidia-cublas-cu12, nvidia-cusparse-cu12, nvidia-cudnn-cu12, nvidia-cusolver-cu12, clean-fid\n",
            "  Attempting uninstall: nvidia-nvjitlink-cu12\n",
            "    Found existing installation: nvidia-nvjitlink-cu12 12.5.82\n",
            "    Uninstalling nvidia-nvjitlink-cu12-12.5.82:\n",
            "      Successfully uninstalled nvidia-nvjitlink-cu12-12.5.82\n",
            "  Attempting uninstall: nvidia-curand-cu12\n",
            "    Found existing installation: nvidia-curand-cu12 10.3.6.82\n",
            "    Uninstalling nvidia-curand-cu12-10.3.6.82:\n",
            "      Successfully uninstalled nvidia-curand-cu12-10.3.6.82\n",
            "  Attempting uninstall: nvidia-cufft-cu12\n",
            "    Found existing installation: nvidia-cufft-cu12 11.2.3.61\n",
            "    Uninstalling nvidia-cufft-cu12-11.2.3.61:\n",
            "      Successfully uninstalled nvidia-cufft-cu12-11.2.3.61\n",
            "  Attempting uninstall: nvidia-cuda-runtime-cu12\n",
            "    Found existing installation: nvidia-cuda-runtime-cu12 12.5.82\n",
            "    Uninstalling nvidia-cuda-runtime-cu12-12.5.82:\n",
            "      Successfully uninstalled nvidia-cuda-runtime-cu12-12.5.82\n",
            "  Attempting uninstall: nvidia-cuda-nvrtc-cu12\n",
            "    Found existing installation: nvidia-cuda-nvrtc-cu12 12.5.82\n",
            "    Uninstalling nvidia-cuda-nvrtc-cu12-12.5.82:\n",
            "      Successfully uninstalled nvidia-cuda-nvrtc-cu12-12.5.82\n",
            "  Attempting uninstall: nvidia-cuda-cupti-cu12\n",
            "    Found existing installation: nvidia-cuda-cupti-cu12 12.5.82\n",
            "    Uninstalling nvidia-cuda-cupti-cu12-12.5.82:\n",
            "      Successfully uninstalled nvidia-cuda-cupti-cu12-12.5.82\n",
            "  Attempting uninstall: nvidia-cublas-cu12\n",
            "    Found existing installation: nvidia-cublas-cu12 12.5.3.2\n",
            "    Uninstalling nvidia-cublas-cu12-12.5.3.2:\n",
            "      Successfully uninstalled nvidia-cublas-cu12-12.5.3.2\n",
            "  Attempting uninstall: nvidia-cusparse-cu12\n",
            "    Found existing installation: nvidia-cusparse-cu12 12.5.1.3\n",
            "    Uninstalling nvidia-cusparse-cu12-12.5.1.3:\n",
            "      Successfully uninstalled nvidia-cusparse-cu12-12.5.1.3\n",
            "  Attempting uninstall: nvidia-cudnn-cu12\n",
            "    Found existing installation: nvidia-cudnn-cu12 9.3.0.75\n",
            "    Uninstalling nvidia-cudnn-cu12-9.3.0.75:\n",
            "      Successfully uninstalled nvidia-cudnn-cu12-9.3.0.75\n",
            "  Attempting uninstall: nvidia-cusolver-cu12\n",
            "    Found existing installation: nvidia-cusolver-cu12 11.6.3.83\n",
            "    Uninstalling nvidia-cusolver-cu12-11.6.3.83:\n",
            "      Successfully uninstalled nvidia-cusolver-cu12-11.6.3.83\n",
            "Successfully installed clean-fid-0.1.35 nvidia-cublas-cu12-12.4.5.8 nvidia-cuda-cupti-cu12-12.4.127 nvidia-cuda-nvrtc-cu12-12.4.127 nvidia-cuda-runtime-cu12-12.4.127 nvidia-cudnn-cu12-9.1.0.70 nvidia-cufft-cu12-11.2.1.3 nvidia-curand-cu12-10.3.5.147 nvidia-cusolver-cu12-11.6.1.9 nvidia-cusparse-cu12-12.3.1.170 nvidia-nvjitlink-cu12-12.4.127\n"
          ]
        }
      ],
      "source": [
        "# Install the package\n",
        "! pip install clean-fid"
      ]
    },
    {
      "cell_type": "markdown",
      "source": [
        "# Mount Drive"
      ],
      "metadata": {
        "id": "GjsrORTmx0E8"
      }
    },
    {
      "cell_type": "code",
      "source": [
        "from google.colab import drive\n",
        "drive.mount('/content/drive', force_remount=True)"
      ],
      "metadata": {
        "colab": {
          "base_uri": "https://localhost:8080/"
        },
        "id": "YGfFdyqYgDJy",
        "outputId": "cf81c8bc-3d7f-4195-85c7-e11457a84cb8"
      },
      "execution_count": null,
      "outputs": [
        {
          "output_type": "stream",
          "name": "stdout",
          "text": [
            "Mounted at /content/drive\n"
          ]
        }
      ]
    },
    {
      "cell_type": "code",
      "source": [
        "import numpy as np\n",
        "import cv2\n",
        "from cleanfid import fid"
      ],
      "metadata": {
        "id": "1G1MaL2fe5G-"
      },
      "execution_count": null,
      "outputs": []
    },
    {
      "cell_type": "markdown",
      "source": [
        "# Young Images"
      ],
      "metadata": {
        "id": "DVQvumJ0fgHt"
      }
    },
    {
      "cell_type": "code",
      "source": [
        "# Paths to images\n",
        "young_folder = \"/content/drive/My Drive/young_folder\"\n",
        "cycled_young = '/content/drive/My Drive/Cycled_Young'"
      ],
      "metadata": {
        "id": "ZgptHBCRfV9E"
      },
      "execution_count": null,
      "outputs": []
    },
    {
      "cell_type": "code",
      "source": [
        "# Baseline\n",
        "young_folder = \"/content/drive/My Drive/young_folder\"\n",
        "cycled_young = '/content/drive/My Drive/Cycled_Young_Baseline'"
      ],
      "metadata": {
        "id": "XVnmWm6uMJUm"
      },
      "execution_count": null,
      "outputs": []
    },
    {
      "cell_type": "code",
      "source": [
        "# Updated\n",
        "young_folder = \"/content/drive/My Drive/young_folder\"\n",
        "cycled_young = '/content/drive/My Drive/Cycled_Young_Updated'"
      ],
      "metadata": {
        "id": "4WjFKFmCo4c8"
      },
      "execution_count": null,
      "outputs": []
    },
    {
      "cell_type": "code",
      "source": [
        "# Original\n",
        "young_folder = \"/content/drive/My Drive/young_folder\"\n",
        "cycled_young = '/content/drive/My Drive/BA_results/ORIGINAL/young'"
      ],
      "metadata": {
        "id": "E1wmLRI6tChq"
      },
      "execution_count": null,
      "outputs": []
    },
    {
      "cell_type": "code",
      "source": [
        "# Percept\n",
        "young_folder = \"/content/drive/My Drive/young_folder\"\n",
        "cycled_young = '/content/drive/My Drive/BA_results/PERCEPT/young'"
      ],
      "metadata": {
        "id": "zobMD5kLtX3O"
      },
      "execution_count": null,
      "outputs": []
    },
    {
      "cell_type": "code",
      "source": [
        "# WCGAN\n",
        "young_folder = \"/content/drive/My Drive/young_folder\"\n",
        "cycled_young = '/content/drive/My Drive/BA_results/WCGAN/young'"
      ],
      "metadata": {
        "id": "m66Qbt4dtgS_"
      },
      "execution_count": null,
      "outputs": []
    },
    {
      "cell_type": "code",
      "source": [
        "# New WCGAN\n",
        "young_folder = \"/content/drive/My Drive/young_folder\"\n",
        "cycled_young = '/content/drive/My Drive/BA_Updated_Results/WCGAN/Cycled_Young'"
      ],
      "metadata": {
        "id": "OoH4N7WA7WFo"
      },
      "execution_count": null,
      "outputs": []
    },
    {
      "cell_type": "code",
      "source": [
        "# New Percept\n",
        "young_folder = \"/content/drive/My Drive/young_folder\"\n",
        "cycled_young = '/content/drive/My Drive/BA_Updated_Results/Percept/Cycled_Young'"
      ],
      "metadata": {
        "id": "n6086xHs7qFG"
      },
      "execution_count": null,
      "outputs": []
    },
    {
      "cell_type": "code",
      "source": [
        "# Reduced Noise\n",
        "young_folder = \"/content/drive/My Drive/young_folder\"\n",
        "cycled_young = '/content/drive/My Drive/BA_Updated_Results/Reduced_Noise/Cycled_Young'"
      ],
      "metadata": {
        "id": "4mZ2_o7o7wVD"
      },
      "execution_count": null,
      "outputs": []
    },
    {
      "cell_type": "markdown",
      "source": [
        "## FID"
      ],
      "metadata": {
        "id": "YrclkyPNfmQt"
      }
    },
    {
      "cell_type": "markdown",
      "source": [
        "### Baseline (Baseline w/ Cross Entropy)"
      ],
      "metadata": {
        "id": "m4dEHgh1Nnfe"
      }
    },
    {
      "cell_type": "code",
      "source": [
        "score_clean = fid.compute_fid(young_folder, cycled_young, mode=\"clean\", num_workers=0)\n",
        "print(f\"clean-fid score for young images using baseline is {score_clean:.3f}\")"
      ],
      "metadata": {
        "colab": {
          "base_uri": "https://localhost:8080/"
        },
        "id": "c2WGwRS5Maoy",
        "outputId": "89108f3f-7239-469c-d87f-1e83ab231dfb"
      },
      "execution_count": null,
      "outputs": [
        {
          "output_type": "stream",
          "name": "stdout",
          "text": [
            "compute FID between two folders\n",
            "Found 7344 images in the folder /content/drive/My Drive/young_folder\n"
          ]
        },
        {
          "output_type": "stream",
          "name": "stderr",
          "text": [
            "FID young_folder : 100%|██████████| 230/230 [02:24<00:00,  1.59it/s]\n"
          ]
        },
        {
          "output_type": "stream",
          "name": "stdout",
          "text": [
            "Found 7344 images in the folder /content/drive/My Drive/Cycled_Young_Baseline\n"
          ]
        },
        {
          "output_type": "stream",
          "name": "stderr",
          "text": [
            "FID Cycled_Young_Baseline : 100%|██████████| 230/230 [02:47<00:00,  1.37it/s]\n"
          ]
        },
        {
          "output_type": "stream",
          "name": "stdout",
          "text": [
            "clean-fid score for young images using baseline is 69.826\n"
          ]
        }
      ]
    },
    {
      "cell_type": "code",
      "source": [
        "score_tf = fid.compute_fid(young_folder, cycled_young, mode=\"legacy_tensorflow\", num_workers=0)\n",
        "print(f\"legacy-tensorflow-fid score for young images using baseline is {score_tf:.3f}\")"
      ],
      "metadata": {
        "colab": {
          "base_uri": "https://localhost:8080/"
        },
        "id": "1myUW8OpMe0Z",
        "outputId": "8b79af3e-6f3f-428e-c375-c8a211c2c933"
      },
      "execution_count": null,
      "outputs": [
        {
          "output_type": "stream",
          "name": "stdout",
          "text": [
            "compute FID between two folders\n",
            "Found 7344 images in the folder /content/drive/My Drive/young_folder\n"
          ]
        },
        {
          "output_type": "stream",
          "name": "stderr",
          "text": [
            "FID young_folder : 100%|██████████| 230/230 [01:09<00:00,  3.32it/s]\n"
          ]
        },
        {
          "output_type": "stream",
          "name": "stdout",
          "text": [
            "Found 7344 images in the folder /content/drive/My Drive/Cycled_Young_Baseline\n"
          ]
        },
        {
          "output_type": "stream",
          "name": "stderr",
          "text": [
            "FID Cycled_Young_Baseline : 100%|██████████| 230/230 [01:05<00:00,  3.53it/s]\n"
          ]
        },
        {
          "output_type": "stream",
          "name": "stdout",
          "text": [
            "legacy-tensorflow-fid score for young images using baseline is 65.104\n"
          ]
        }
      ]
    },
    {
      "cell_type": "markdown",
      "source": [
        "### Updated (Least Square GAN + SN + Label Smoothing)"
      ],
      "metadata": {
        "id": "wQBr99yzo_uY"
      }
    },
    {
      "cell_type": "code",
      "source": [
        "score_clean = fid.compute_fid(young_folder, cycled_young, mode=\"clean\", num_workers=0)\n",
        "print(f\"clean-fid score for young images using updated is {score_clean:.3f}\")"
      ],
      "metadata": {
        "colab": {
          "base_uri": "https://localhost:8080/"
        },
        "id": "gHUQaoPgpBew",
        "outputId": "f9f0d643-be93-4200-ba3a-969e3f0652ea"
      },
      "execution_count": null,
      "outputs": [
        {
          "output_type": "stream",
          "name": "stdout",
          "text": [
            "compute FID between two folders\n",
            "Found 7344 images in the folder /content/drive/My Drive/young_folder\n"
          ]
        },
        {
          "output_type": "stream",
          "name": "stderr",
          "text": [
            "FID young_folder : 100%|██████████| 230/230 [02:36<00:00,  1.47it/s]\n"
          ]
        },
        {
          "output_type": "stream",
          "name": "stdout",
          "text": [
            "Found 7344 images in the folder /content/drive/My Drive/Cycled_Young_Updated\n"
          ]
        },
        {
          "output_type": "stream",
          "name": "stderr",
          "text": [
            "FID Cycled_Young_Updated : 100%|██████████| 230/230 [02:52<00:00,  1.33it/s]\n"
          ]
        },
        {
          "output_type": "stream",
          "name": "stdout",
          "text": [
            "clean-fid score for young images using updated is 53.304\n"
          ]
        }
      ]
    },
    {
      "cell_type": "code",
      "source": [
        "score_tf = fid.compute_fid(young_folder, cycled_young, mode=\"legacy_tensorflow\", num_workers=0)\n",
        "print(f\"legacy-tensorflow-fid score for young images using updated is {score_tf:.3f}\")"
      ],
      "metadata": {
        "colab": {
          "base_uri": "https://localhost:8080/"
        },
        "id": "COUkeVyvpG2E",
        "outputId": "d099b8b9-902a-4de6-e217-e600e1c23000"
      },
      "execution_count": null,
      "outputs": [
        {
          "output_type": "stream",
          "name": "stdout",
          "text": [
            "compute FID between two folders\n",
            "Found 7344 images in the folder /content/drive/My Drive/young_folder\n"
          ]
        },
        {
          "output_type": "stream",
          "name": "stderr",
          "text": [
            "FID young_folder : 100%|██████████| 230/230 [01:08<00:00,  3.37it/s]\n"
          ]
        },
        {
          "output_type": "stream",
          "name": "stdout",
          "text": [
            "Found 7344 images in the folder /content/drive/My Drive/Cycled_Young_Updated\n"
          ]
        },
        {
          "output_type": "stream",
          "name": "stderr",
          "text": [
            "FID Cycled_Young_Updated : 100%|██████████| 230/230 [01:02<00:00,  3.69it/s]\n"
          ]
        },
        {
          "output_type": "stream",
          "name": "stdout",
          "text": [
            "legacy-tensorflow-fid score for young images using updated is 53.511\n"
          ]
        }
      ]
    },
    {
      "cell_type": "markdown",
      "source": [
        "### Original (Baseline w/ MSE + Label Smoothing)"
      ],
      "metadata": {
        "id": "KA-3608uuvF7"
      }
    },
    {
      "cell_type": "code",
      "source": [
        "score_clean = fid.compute_fid(young_folder, cycled_young, mode=\"clean\", num_workers=0)\n",
        "print(f\"clean-fid score for young images using original is {score_clean:.3f}\")"
      ],
      "metadata": {
        "colab": {
          "base_uri": "https://localhost:8080/"
        },
        "id": "xUsD7gvhu2BM",
        "outputId": "c3a3d672-557f-4261-d207-8d1ba26cab4b"
      },
      "execution_count": null,
      "outputs": [
        {
          "output_type": "stream",
          "name": "stdout",
          "text": [
            "compute FID between two folders\n",
            "Found 7344 images in the folder /content/drive/My Drive/young_folder\n"
          ]
        },
        {
          "output_type": "stream",
          "name": "stderr",
          "text": [
            "FID young_folder : 100%|██████████| 230/230 [02:14<00:00,  1.71it/s]\n"
          ]
        },
        {
          "output_type": "stream",
          "name": "stdout",
          "text": [
            "Found 7344 images in the folder /content/drive/My Drive/BA_results/ORIGINAL/young\n"
          ]
        },
        {
          "output_type": "stream",
          "name": "stderr",
          "text": [
            "FID young : 100%|██████████| 230/230 [02:12<00:00,  1.74it/s]\n"
          ]
        },
        {
          "output_type": "stream",
          "name": "stdout",
          "text": [
            "clean-fid score for young images using original is 48.040\n"
          ]
        }
      ]
    },
    {
      "cell_type": "code",
      "source": [
        "score_tf = fid.compute_fid(young_folder, cycled_young, mode=\"legacy_tensorflow\", num_workers=0)\n",
        "print(f\"legacy-tensorflow-fid score for young images using original is {score_tf:.3f}\")"
      ],
      "metadata": {
        "colab": {
          "base_uri": "https://localhost:8080/"
        },
        "id": "sBBDHrvbu2hW",
        "outputId": "f10e3301-728e-4269-d9d6-4d307d12dae2"
      },
      "execution_count": null,
      "outputs": [
        {
          "output_type": "stream",
          "name": "stdout",
          "text": [
            "compute FID between two folders\n",
            "Found 7344 images in the folder /content/drive/My Drive/young_folder\n"
          ]
        },
        {
          "output_type": "stream",
          "name": "stderr",
          "text": [
            "FID young_folder : 100%|██████████| 230/230 [01:05<00:00,  3.49it/s]\n"
          ]
        },
        {
          "output_type": "stream",
          "name": "stdout",
          "text": [
            "Found 7344 images in the folder /content/drive/My Drive/BA_results/ORIGINAL/young\n"
          ]
        },
        {
          "output_type": "stream",
          "name": "stderr",
          "text": [
            "FID young : 100%|██████████| 230/230 [01:04<00:00,  3.56it/s]\n"
          ]
        },
        {
          "output_type": "stream",
          "name": "stdout",
          "text": [
            "legacy-tensorflow-fid score for young images using original is 49.202\n"
          ]
        }
      ]
    },
    {
      "cell_type": "markdown",
      "source": [
        "### Percept"
      ],
      "metadata": {
        "id": "D6Wz15qCuvPm"
      }
    },
    {
      "cell_type": "code",
      "source": [
        "score_clean = fid.compute_fid(young_folder, cycled_young, mode=\"clean\", num_workers=0)\n",
        "print(f\"clean-fid score for young images using percept is {score_clean:.3f}\")"
      ],
      "metadata": {
        "colab": {
          "base_uri": "https://localhost:8080/"
        },
        "id": "LN9Zv5efvJzE",
        "outputId": "10e3bec3-9c7b-42f3-ee8a-240a2474e348"
      },
      "execution_count": null,
      "outputs": [
        {
          "output_type": "stream",
          "name": "stdout",
          "text": [
            "compute FID between two folders\n",
            "Found 7344 images in the folder /content/drive/My Drive/young_folder\n"
          ]
        },
        {
          "output_type": "stream",
          "name": "stderr",
          "text": [
            "FID young_folder : 100%|██████████| 230/230 [01:35<00:00,  2.40it/s]\n"
          ]
        },
        {
          "output_type": "stream",
          "name": "stdout",
          "text": [
            "Found 7344 images in the folder /content/drive/My Drive/BA_results/PERCEPT/young\n"
          ]
        },
        {
          "output_type": "stream",
          "name": "stderr",
          "text": [
            "FID young : 100%|██████████| 230/230 [02:19<00:00,  1.65it/s]\n"
          ]
        },
        {
          "output_type": "stream",
          "name": "stdout",
          "text": [
            "clean-fid score for young images using percept is 317.556\n"
          ]
        }
      ]
    },
    {
      "cell_type": "code",
      "source": [
        "score_tf = fid.compute_fid(young_folder, cycled_young, mode=\"legacy_tensorflow\", num_workers=0)\n",
        "print(f\"legacy-tensorflow-fid score for young images using percept is {score_tf:.3f}\")"
      ],
      "metadata": {
        "colab": {
          "base_uri": "https://localhost:8080/"
        },
        "id": "P4b3mEIgvJ9k",
        "outputId": "2a2696e7-a132-4edb-ea44-57ff4493e28f"
      },
      "execution_count": null,
      "outputs": [
        {
          "output_type": "stream",
          "name": "stdout",
          "text": [
            "compute FID between two folders\n",
            "Found 7344 images in the folder /content/drive/My Drive/young_folder\n"
          ]
        },
        {
          "output_type": "stream",
          "name": "stderr",
          "text": [
            "FID young_folder : 100%|██████████| 230/230 [01:12<00:00,  3.18it/s]\n"
          ]
        },
        {
          "output_type": "stream",
          "name": "stdout",
          "text": [
            "Found 7344 images in the folder /content/drive/My Drive/BA_results/PERCEPT/young\n"
          ]
        },
        {
          "output_type": "stream",
          "name": "stderr",
          "text": [
            "FID young : 100%|██████████| 230/230 [01:07<00:00,  3.41it/s]\n"
          ]
        },
        {
          "output_type": "stream",
          "name": "stdout",
          "text": [
            "legacy-tensorflow-fid score for young images using percept is 310.381\n"
          ]
        }
      ]
    },
    {
      "cell_type": "markdown",
      "source": [
        "### WCGAN"
      ],
      "metadata": {
        "id": "kfIL-tt6uvhW"
      }
    },
    {
      "cell_type": "code",
      "source": [
        "score_clean = fid.compute_fid(young_folder, cycled_young, mode=\"clean\", num_workers=0)\n",
        "print(f\"clean-fid score for young images using WCGAN is {score_clean:.3f}\")"
      ],
      "metadata": {
        "id": "Qy6WXf1tvQdF",
        "colab": {
          "base_uri": "https://localhost:8080/"
        },
        "outputId": "6da6df03-c32a-4672-ae45-36861e143f38"
      },
      "execution_count": null,
      "outputs": [
        {
          "output_type": "stream",
          "name": "stdout",
          "text": [
            "compute FID between two folders\n",
            "Found 7344 images in the folder /content/drive/My Drive/young_folder\n"
          ]
        },
        {
          "output_type": "stream",
          "name": "stderr",
          "text": [
            "FID young_folder : 100%|██████████| 230/230 [02:32<00:00,  1.51it/s]\n"
          ]
        },
        {
          "output_type": "stream",
          "name": "stdout",
          "text": [
            "Found 7344 images in the folder /content/drive/My Drive/BA_results/WCGAN/young\n"
          ]
        },
        {
          "output_type": "stream",
          "name": "stderr",
          "text": [
            "FID young : 100%|██████████| 230/230 [02:18<00:00,  1.66it/s]\n"
          ]
        },
        {
          "output_type": "stream",
          "name": "stdout",
          "text": [
            "clean-fid score for young images using WCGAN is 285.649\n"
          ]
        }
      ]
    },
    {
      "cell_type": "code",
      "source": [
        "score_tf = fid.compute_fid(young_folder, cycled_young, mode=\"legacy_tensorflow\", num_workers=0)\n",
        "print(f\"legacy-tensorflow-fid score for young images using WCGAN is {score_tf:.3f}\")"
      ],
      "metadata": {
        "id": "C2g-IArdvQoM",
        "colab": {
          "base_uri": "https://localhost:8080/"
        },
        "outputId": "5f7059ec-d0dc-4bc5-cb32-24140787d24c"
      },
      "execution_count": null,
      "outputs": [
        {
          "output_type": "stream",
          "name": "stdout",
          "text": [
            "compute FID between two folders\n",
            "Found 7344 images in the folder /content/drive/My Drive/young_folder\n"
          ]
        },
        {
          "output_type": "stream",
          "name": "stderr",
          "text": [
            "FID young_folder : 100%|██████████| 230/230 [01:07<00:00,  3.40it/s]\n"
          ]
        },
        {
          "output_type": "stream",
          "name": "stdout",
          "text": [
            "Found 7344 images in the folder /content/drive/My Drive/BA_results/WCGAN/young\n"
          ]
        },
        {
          "output_type": "stream",
          "name": "stderr",
          "text": [
            "FID young : 100%|██████████| 230/230 [01:06<00:00,  3.46it/s]\n"
          ]
        },
        {
          "output_type": "stream",
          "name": "stdout",
          "text": [
            "legacy-tensorflow-fid score for young images using WCGAN is 277.689\n"
          ]
        }
      ]
    },
    {
      "cell_type": "markdown",
      "source": [
        "### New WCGAN"
      ],
      "metadata": {
        "id": "lYe-_zRA8FRM"
      }
    },
    {
      "cell_type": "code",
      "source": [
        "score_clean = fid.compute_fid(young_folder, cycled_young, mode=\"clean\", num_workers=0)\n",
        "print(f\"clean-fid score for young images using new WCGAN is {score_clean:.3f}\")"
      ],
      "metadata": {
        "colab": {
          "base_uri": "https://localhost:8080/"
        },
        "id": "xbv3c31F8JGi",
        "outputId": "79f6a81a-41de-4659-84c4-5f775c699298"
      },
      "execution_count": null,
      "outputs": [
        {
          "output_type": "stream",
          "name": "stdout",
          "text": [
            "compute FID between two folders\n",
            "Found 7344 images in the folder /content/drive/My Drive/young_folder\n"
          ]
        },
        {
          "output_type": "stream",
          "name": "stderr",
          "text": [
            "FID young_folder : 100%|██████████| 230/230 [03:49<00:00,  1.00it/s]\n"
          ]
        },
        {
          "output_type": "stream",
          "name": "stdout",
          "text": [
            "Found 7344 images in the folder /content/drive/My Drive/BA_Updated_Results/WCGAN/Cycled_Young\n"
          ]
        },
        {
          "output_type": "stream",
          "name": "stderr",
          "text": [
            "FID Cycled_Young : 100%|██████████| 230/230 [03:08<00:00,  1.22it/s]\n"
          ]
        },
        {
          "output_type": "stream",
          "name": "stdout",
          "text": [
            "clean-fid score for young images using new WCGAN is 161.881\n"
          ]
        }
      ]
    },
    {
      "cell_type": "code",
      "source": [
        "score_tf = fid.compute_fid(young_folder, cycled_young, mode=\"legacy_tensorflow\", num_workers=0)\n",
        "print(f\"legacy-tensorflow-fid score for young images using new WCGAN is {score_tf:.3f}\")"
      ],
      "metadata": {
        "colab": {
          "base_uri": "https://localhost:8080/"
        },
        "id": "i6pAuXrP8JZy",
        "outputId": "3365d411-9e5c-45f1-f551-629a550af116"
      },
      "execution_count": null,
      "outputs": [
        {
          "output_type": "stream",
          "name": "stdout",
          "text": [
            "compute FID between two folders\n",
            "Found 7344 images in the folder /content/drive/My Drive/young_folder\n"
          ]
        },
        {
          "output_type": "stream",
          "name": "stderr",
          "text": [
            "FID young_folder : 100%|██████████| 230/230 [01:07<00:00,  3.43it/s]\n"
          ]
        },
        {
          "output_type": "stream",
          "name": "stdout",
          "text": [
            "Found 7344 images in the folder /content/drive/My Drive/BA_Updated_Results/WCGAN/Cycled_Young\n"
          ]
        },
        {
          "output_type": "stream",
          "name": "stderr",
          "text": [
            "FID Cycled_Young : 100%|██████████| 230/230 [01:03<00:00,  3.64it/s]\n"
          ]
        },
        {
          "output_type": "stream",
          "name": "stdout",
          "text": [
            "legacy-tensorflow-fid score for young images using new WCGAN is 154.924\n"
          ]
        }
      ]
    },
    {
      "cell_type": "markdown",
      "source": [
        "### New Percept"
      ],
      "metadata": {
        "id": "rN2HIOFU8FaF"
      }
    },
    {
      "cell_type": "code",
      "source": [
        "score_clean = fid.compute_fid(young_folder, cycled_young, mode=\"clean\", num_workers=0)\n",
        "print(f\"clean-fid score for young images using new Percept is {score_clean:.3f}\")"
      ],
      "metadata": {
        "colab": {
          "base_uri": "https://localhost:8080/"
        },
        "id": "4piTrC-Y8Vkp",
        "outputId": "c706c775-5250-4258-aee4-e3b7be52a0e2"
      },
      "execution_count": null,
      "outputs": [
        {
          "output_type": "stream",
          "name": "stdout",
          "text": [
            "compute FID between two folders\n",
            "Found 7344 images in the folder /content/drive/My Drive/young_folder\n"
          ]
        },
        {
          "output_type": "stream",
          "name": "stderr",
          "text": [
            "FID young_folder : 100%|██████████| 230/230 [01:39<00:00,  2.30it/s]\n"
          ]
        },
        {
          "output_type": "stream",
          "name": "stdout",
          "text": [
            "Found 7344 images in the folder /content/drive/My Drive/BA_Updated_Results/Percept/Cycled_Young\n"
          ]
        },
        {
          "output_type": "stream",
          "name": "stderr",
          "text": [
            "FID Cycled_Young : 100%|██████████| 230/230 [03:09<00:00,  1.22it/s]\n"
          ]
        },
        {
          "output_type": "stream",
          "name": "stdout",
          "text": [
            "clean-fid score for young images using new Percept is 62.523\n"
          ]
        }
      ]
    },
    {
      "cell_type": "code",
      "source": [
        "score_tf = fid.compute_fid(young_folder, cycled_young, mode=\"legacy_tensorflow\", num_workers=0)\n",
        "print(f\"legacy-tensorflow-fid score for young images using new Percept is {score_tf:.3f}\")"
      ],
      "metadata": {
        "colab": {
          "base_uri": "https://localhost:8080/"
        },
        "id": "Q2xb_1ds8b5l",
        "outputId": "0e5cd061-e8d7-4b40-93c6-0f41191ba5d5"
      },
      "execution_count": null,
      "outputs": [
        {
          "output_type": "stream",
          "name": "stdout",
          "text": [
            "compute FID between two folders\n",
            "Found 7344 images in the folder /content/drive/My Drive/young_folder\n"
          ]
        },
        {
          "output_type": "stream",
          "name": "stderr",
          "text": [
            "FID young_folder : 100%|██████████| 230/230 [01:06<00:00,  3.46it/s]\n"
          ]
        },
        {
          "output_type": "stream",
          "name": "stdout",
          "text": [
            "Found 7344 images in the folder /content/drive/My Drive/BA_Updated_Results/Percept/Cycled_Young\n"
          ]
        },
        {
          "output_type": "stream",
          "name": "stderr",
          "text": [
            "FID Cycled_Young : 100%|██████████| 230/230 [01:05<00:00,  3.49it/s]\n"
          ]
        },
        {
          "output_type": "stream",
          "name": "stdout",
          "text": [
            "legacy-tensorflow-fid score for young images using new Percept is 63.326\n"
          ]
        }
      ]
    },
    {
      "cell_type": "markdown",
      "source": [
        "### Reduced Noise"
      ],
      "metadata": {
        "id": "VbK5Bm568Fkc"
      }
    },
    {
      "cell_type": "code",
      "source": [
        "score_clean = fid.compute_fid(young_folder, cycled_young, mode=\"clean\", num_workers=0)\n",
        "print(f\"clean-fid score for young images using reduced noise is {score_clean:.3f}\")"
      ],
      "metadata": {
        "colab": {
          "base_uri": "https://localhost:8080/"
        },
        "id": "p1zwtRpn8hJA",
        "outputId": "2c030f19-1174-4c32-bc9a-855dd412b2eb"
      },
      "execution_count": null,
      "outputs": [
        {
          "output_type": "stream",
          "name": "stdout",
          "text": [
            "compute FID between two folders\n",
            "Found 7344 images in the folder /content/drive/My Drive/young_folder\n"
          ]
        },
        {
          "output_type": "stream",
          "name": "stderr",
          "text": [
            "FID young_folder : 100%|██████████| 230/230 [01:36<00:00,  2.38it/s]\n"
          ]
        },
        {
          "output_type": "stream",
          "name": "stdout",
          "text": [
            "Found 7344 images in the folder /content/drive/My Drive/BA_Updated_Results/Reduced_Noise/Cycled_Young\n"
          ]
        },
        {
          "output_type": "stream",
          "name": "stderr",
          "text": [
            "FID Cycled_Young : 100%|██████████| 230/230 [03:10<00:00,  1.21it/s]\n"
          ]
        },
        {
          "output_type": "stream",
          "name": "stdout",
          "text": [
            "clean-fid score for young images using reduced noise is 54.649\n"
          ]
        }
      ]
    },
    {
      "cell_type": "code",
      "source": [
        "score_tf = fid.compute_fid(young_folder, cycled_young, mode=\"legacy_tensorflow\", num_workers=0)\n",
        "print(f\"legacy-tensorflow-fid score for young images using reduced noise is {score_tf:.3f}\")"
      ],
      "metadata": {
        "colab": {
          "base_uri": "https://localhost:8080/"
        },
        "id": "OHiYF7X18hQz",
        "outputId": "66acc650-b9da-40c8-9e2f-d897172f7110"
      },
      "execution_count": null,
      "outputs": [
        {
          "output_type": "stream",
          "name": "stdout",
          "text": [
            "compute FID between two folders\n",
            "Found 7344 images in the folder /content/drive/My Drive/young_folder\n"
          ]
        },
        {
          "output_type": "stream",
          "name": "stderr",
          "text": [
            "FID young_folder : 100%|██████████| 230/230 [01:06<00:00,  3.46it/s]\n"
          ]
        },
        {
          "output_type": "stream",
          "name": "stdout",
          "text": [
            "Found 7344 images in the folder /content/drive/My Drive/BA_Updated_Results/Reduced_Noise/Cycled_Young\n"
          ]
        },
        {
          "output_type": "stream",
          "name": "stderr",
          "text": [
            "FID Cycled_Young : 100%|██████████| 230/230 [01:05<00:00,  3.53it/s]\n"
          ]
        },
        {
          "output_type": "stream",
          "name": "stdout",
          "text": [
            "legacy-tensorflow-fid score for young images using reduced noise is 56.275\n"
          ]
        }
      ]
    },
    {
      "cell_type": "markdown",
      "source": [
        "## KID"
      ],
      "metadata": {
        "id": "pyBKzH2mfqnc"
      }
    },
    {
      "cell_type": "markdown",
      "source": [
        "### Baseline (Baseline w/ Cross Entropy)"
      ],
      "metadata": {
        "id": "G6tt6k27N7r8"
      }
    },
    {
      "cell_type": "code",
      "source": [
        "score_kid = fid.compute_kid(young_folder, cycled_young)\n",
        "print(f\"KID score for young images using baseline is {score_kid:.3f}\")"
      ],
      "metadata": {
        "colab": {
          "base_uri": "https://localhost:8080/"
        },
        "id": "kjp8_TauMkD8",
        "outputId": "cc1f173c-4e39-4d25-8107-c956b7d9708e"
      },
      "execution_count": null,
      "outputs": [
        {
          "output_type": "stream",
          "name": "stdout",
          "text": [
            "compute KID between two folders\n",
            "Found 7344 images in the folder /content/drive/My Drive/young_folder\n"
          ]
        },
        {
          "output_type": "stream",
          "name": "stderr",
          "text": [
            "KID young_folder : 100%|██████████| 230/230 [00:56<00:00,  4.04it/s]\n"
          ]
        },
        {
          "output_type": "stream",
          "name": "stdout",
          "text": [
            "Found 7344 images in the folder /content/drive/My Drive/Cycled_Young_Baseline\n"
          ]
        },
        {
          "output_type": "stream",
          "name": "stderr",
          "text": [
            "KID Cycled_Young_Baseline : 100%|██████████| 230/230 [00:15<00:00, 14.82it/s]\n"
          ]
        },
        {
          "output_type": "stream",
          "name": "stdout",
          "text": [
            "KID score for young images using baseline is 0.072\n"
          ]
        }
      ]
    },
    {
      "cell_type": "markdown",
      "source": [
        "### Updated (Least Square GAN + SN + Label Smoothing)"
      ],
      "metadata": {
        "id": "rRhKeI3SpMwh"
      }
    },
    {
      "cell_type": "code",
      "source": [
        "score_kid = fid.compute_kid(young_folder, cycled_young)\n",
        "print(f\"KID score for young images using updated is {score_kid:.3f}\")"
      ],
      "metadata": {
        "colab": {
          "base_uri": "https://localhost:8080/"
        },
        "id": "r_V-xbRPpg--",
        "outputId": "b29c8638-22f5-4c1e-9c2f-3f8415456899"
      },
      "execution_count": null,
      "outputs": [
        {
          "output_type": "stream",
          "name": "stdout",
          "text": [
            "compute KID between two folders\n",
            "Found 7344 images in the folder /content/drive/My Drive/young_folder\n"
          ]
        },
        {
          "output_type": "stream",
          "name": "stderr",
          "text": [
            "KID young_folder : 100%|██████████| 230/230 [00:52<00:00,  4.34it/s]\n"
          ]
        },
        {
          "output_type": "stream",
          "name": "stdout",
          "text": [
            "Found 7344 images in the folder /content/drive/My Drive/Cycled_Young_Updated\n"
          ]
        },
        {
          "output_type": "stream",
          "name": "stderr",
          "text": [
            "KID Cycled_Young_Updated : 100%|██████████| 230/230 [00:14<00:00, 15.37it/s]\n"
          ]
        },
        {
          "output_type": "stream",
          "name": "stdout",
          "text": [
            "KID score for young images using updated is 0.042\n"
          ]
        }
      ]
    },
    {
      "cell_type": "markdown",
      "source": [
        "### Original (Baseline w/ MSE + Label Smoothing)"
      ],
      "metadata": {
        "id": "2lMSLMkIvYRF"
      }
    },
    {
      "cell_type": "code",
      "source": [
        "score_kid = fid.compute_kid(young_folder, cycled_young)\n",
        "print(f\"KID score for young images using original is {score_kid:.3f}\")"
      ],
      "metadata": {
        "colab": {
          "base_uri": "https://localhost:8080/"
        },
        "id": "e0-FWJC-vjfp",
        "outputId": "d91550db-505f-415a-a387-1d1636ff987f"
      },
      "execution_count": null,
      "outputs": [
        {
          "output_type": "stream",
          "name": "stdout",
          "text": [
            "compute KID between two folders\n",
            "Found 7344 images in the folder /content/drive/My Drive/young_folder\n"
          ]
        },
        {
          "output_type": "stream",
          "name": "stderr",
          "text": [
            "KID young_folder : 100%|██████████| 230/230 [00:53<00:00,  4.32it/s]\n"
          ]
        },
        {
          "output_type": "stream",
          "name": "stdout",
          "text": [
            "Found 7344 images in the folder /content/drive/My Drive/BA_results/ORIGINAL/young\n"
          ]
        },
        {
          "output_type": "stream",
          "name": "stderr",
          "text": [
            "KID young : 100%|██████████| 230/230 [00:15<00:00, 15.24it/s]\n"
          ]
        },
        {
          "output_type": "stream",
          "name": "stdout",
          "text": [
            "KID score for young images using original is 0.037\n"
          ]
        }
      ]
    },
    {
      "cell_type": "markdown",
      "source": [
        "### Percept"
      ],
      "metadata": {
        "id": "j_oeLLS1vYbv"
      }
    },
    {
      "cell_type": "code",
      "source": [
        "score_kid = fid.compute_kid(young_folder, cycled_young)\n",
        "print(f\"KID score for young images using percept is {score_kid:.3f}\")"
      ],
      "metadata": {
        "colab": {
          "base_uri": "https://localhost:8080/"
        },
        "id": "okz9ln-Nvq29",
        "outputId": "6ee6f667-ebce-4f51-8aa2-b8803b9c1491"
      },
      "execution_count": null,
      "outputs": [
        {
          "output_type": "stream",
          "name": "stdout",
          "text": [
            "compute KID between two folders\n",
            "Found 7344 images in the folder /content/drive/My Drive/young_folder\n"
          ]
        },
        {
          "output_type": "stream",
          "name": "stderr",
          "text": [
            "KID young_folder : 100%|██████████| 230/230 [00:56<00:00,  4.06it/s]\n"
          ]
        },
        {
          "output_type": "stream",
          "name": "stdout",
          "text": [
            "Found 7344 images in the folder /content/drive/My Drive/BA_results/PERCEPT/young\n"
          ]
        },
        {
          "output_type": "stream",
          "name": "stderr",
          "text": [
            "KID young : 100%|██████████| 230/230 [00:15<00:00, 14.95it/s]\n"
          ]
        },
        {
          "output_type": "stream",
          "name": "stdout",
          "text": [
            "KID score for young images using percept is 0.421\n"
          ]
        }
      ]
    },
    {
      "cell_type": "markdown",
      "source": [
        "### WCGAN"
      ],
      "metadata": {
        "id": "JDH0JC9ZvYo7"
      }
    },
    {
      "cell_type": "code",
      "source": [
        "score_kid = fid.compute_kid(young_folder, cycled_young)\n",
        "print(f\"KID score for young images using WCGAN is {score_kid:.3f}\")"
      ],
      "metadata": {
        "id": "mGf2g26bvs4a",
        "colab": {
          "base_uri": "https://localhost:8080/"
        },
        "outputId": "eabb607a-4747-4bb9-af56-53fe919b4a47"
      },
      "execution_count": null,
      "outputs": [
        {
          "output_type": "stream",
          "name": "stdout",
          "text": [
            "compute KID between two folders\n",
            "Found 7344 images in the folder /content/drive/My Drive/young_folder\n"
          ]
        },
        {
          "output_type": "stream",
          "name": "stderr",
          "text": [
            "KID young_folder : 100%|██████████| 230/230 [00:54<00:00,  4.25it/s]\n"
          ]
        },
        {
          "output_type": "stream",
          "name": "stdout",
          "text": [
            "Found 7344 images in the folder /content/drive/My Drive/BA_results/WCGAN/young\n"
          ]
        },
        {
          "output_type": "stream",
          "name": "stderr",
          "text": [
            "KID young : 100%|██████████| 230/230 [00:15<00:00, 15.03it/s]\n"
          ]
        },
        {
          "output_type": "stream",
          "name": "stdout",
          "text": [
            "KID score for young images using WCGAN is 0.381\n"
          ]
        }
      ]
    },
    {
      "cell_type": "markdown",
      "source": [
        "### New WCGAN"
      ],
      "metadata": {
        "id": "RX6GXc0G8tT0"
      }
    },
    {
      "cell_type": "code",
      "source": [
        "score_kid = fid.compute_kid(young_folder, cycled_young)\n",
        "print(f\"KID score for young images using new WCGAN is {score_kid:.3f}\")"
      ],
      "metadata": {
        "colab": {
          "base_uri": "https://localhost:8080/"
        },
        "id": "zNlxKPzq8xzv",
        "outputId": "6585db6f-dbfc-40a6-8ac4-4706b866c6ab"
      },
      "execution_count": null,
      "outputs": [
        {
          "output_type": "stream",
          "name": "stdout",
          "text": [
            "compute KID between two folders\n",
            "Found 7344 images in the folder /content/drive/My Drive/young_folder\n"
          ]
        },
        {
          "output_type": "stream",
          "name": "stderr",
          "text": [
            "KID young_folder : 100%|██████████| 230/230 [00:54<00:00,  4.24it/s]\n"
          ]
        },
        {
          "output_type": "stream",
          "name": "stdout",
          "text": [
            "Found 7344 images in the folder /content/drive/My Drive/BA_Updated_Results/WCGAN/Cycled_Young\n"
          ]
        },
        {
          "output_type": "stream",
          "name": "stderr",
          "text": [
            "KID Cycled_Young : 100%|██████████| 230/230 [00:15<00:00, 15.09it/s]\n"
          ]
        },
        {
          "output_type": "stream",
          "name": "stdout",
          "text": [
            "KID score for young images using new WCGAN is 0.155\n"
          ]
        }
      ]
    },
    {
      "cell_type": "markdown",
      "source": [
        "### New Percept"
      ],
      "metadata": {
        "id": "kheVbBCn8wWD"
      }
    },
    {
      "cell_type": "code",
      "source": [
        "score_kid = fid.compute_kid(young_folder, cycled_young)\n",
        "print(f\"KID score for young images using new Percept is {score_kid:.3f}\")"
      ],
      "metadata": {
        "colab": {
          "base_uri": "https://localhost:8080/"
        },
        "id": "yNa7Agyd81cm",
        "outputId": "14dfe3ff-d041-4e3c-d17a-708e86c6c15c"
      },
      "execution_count": null,
      "outputs": [
        {
          "output_type": "stream",
          "name": "stdout",
          "text": [
            "compute KID between two folders\n",
            "Found 7344 images in the folder /content/drive/My Drive/young_folder\n"
          ]
        },
        {
          "output_type": "stream",
          "name": "stderr",
          "text": [
            "KID young_folder : 100%|██████████| 230/230 [00:55<00:00,  4.16it/s]\n"
          ]
        },
        {
          "output_type": "stream",
          "name": "stdout",
          "text": [
            "Found 7344 images in the folder /content/drive/My Drive/BA_Updated_Results/Percept/Cycled_Young\n"
          ]
        },
        {
          "output_type": "stream",
          "name": "stderr",
          "text": [
            "KID Cycled_Young : 100%|██████████| 230/230 [00:15<00:00, 15.00it/s]\n"
          ]
        },
        {
          "output_type": "stream",
          "name": "stdout",
          "text": [
            "KID score for young images using new Percept is 0.048\n"
          ]
        }
      ]
    },
    {
      "cell_type": "markdown",
      "source": [
        "### Reduced Noise"
      ],
      "metadata": {
        "id": "HdWx0JoS8tly"
      }
    },
    {
      "cell_type": "code",
      "source": [
        "score_kid = fid.compute_kid(young_folder, cycled_young)\n",
        "print(f\"KID score for young images using reduced noise is {score_kid:.3f}\")"
      ],
      "metadata": {
        "colab": {
          "base_uri": "https://localhost:8080/"
        },
        "id": "iZMrgoaw848N",
        "outputId": "7f080cf0-355b-4797-aa8f-0bc8bbc637db"
      },
      "execution_count": null,
      "outputs": [
        {
          "output_type": "stream",
          "name": "stdout",
          "text": [
            "compute KID between two folders\n",
            "Found 7344 images in the folder /content/drive/My Drive/young_folder\n"
          ]
        },
        {
          "output_type": "stream",
          "name": "stderr",
          "text": [
            "KID young_folder : 100%|██████████| 230/230 [00:53<00:00,  4.28it/s]\n"
          ]
        },
        {
          "output_type": "stream",
          "name": "stdout",
          "text": [
            "Found 7344 images in the folder /content/drive/My Drive/BA_Updated_Results/Reduced_Noise/Cycled_Young\n"
          ]
        },
        {
          "output_type": "stream",
          "name": "stderr",
          "text": [
            "KID Cycled_Young : 100%|██████████| 230/230 [00:15<00:00, 15.04it/s]\n"
          ]
        },
        {
          "output_type": "stream",
          "name": "stdout",
          "text": [
            "KID score for young images using reduced noise is 0.045\n"
          ]
        }
      ]
    },
    {
      "cell_type": "markdown",
      "source": [
        "# Old Images"
      ],
      "metadata": {
        "id": "rH1oqCTofiv-"
      }
    },
    {
      "cell_type": "code",
      "source": [
        "# Paths to images\n",
        "old_folder = \"/content/drive/My Drive/old_folder\"\n",
        "cycled_old = '/content/drive/My Drive/Cycled_Old'"
      ],
      "metadata": {
        "id": "ZM_0C3DDgxE7"
      },
      "execution_count": null,
      "outputs": []
    },
    {
      "cell_type": "code",
      "source": [
        "# Baseline\n",
        "old_folder = \"/content/drive/My Drive/old_folder\"\n",
        "cycled_old = '/content/drive/My Drive/Cycled_Old_Baseline'"
      ],
      "metadata": {
        "id": "iZRBoVUKRYM7"
      },
      "execution_count": null,
      "outputs": []
    },
    {
      "cell_type": "code",
      "source": [
        "# Updated\n",
        "old_folder = \"/content/drive/My Drive/old_folder\"\n",
        "cycled_old = '/content/drive/My Drive/Cycled_Old_Updated'"
      ],
      "metadata": {
        "id": "eed3A3flp10V"
      },
      "execution_count": null,
      "outputs": []
    },
    {
      "cell_type": "code",
      "source": [
        "# Original\n",
        "old_folder = \"/content/drive/My Drive/old_folder\"\n",
        "cycled_old = '/content/drive/My Drive/BA_results/ORIGINAL/old'"
      ],
      "metadata": {
        "id": "9IWzbGusuBf3"
      },
      "execution_count": null,
      "outputs": []
    },
    {
      "cell_type": "code",
      "source": [
        "# Percept\n",
        "old_folder = \"/content/drive/My Drive/old_folder\"\n",
        "cycled_old = '/content/drive/My Drive/BA_results/PERCEPT/old'"
      ],
      "metadata": {
        "id": "CY4qmymtuBqf"
      },
      "execution_count": null,
      "outputs": []
    },
    {
      "cell_type": "code",
      "source": [
        "# WCGAN\n",
        "old_folder = \"/content/drive/My Drive/old_folder\"\n",
        "cycled_old = '/content/drive/My Drive/BA_results/WCGAN/old'"
      ],
      "metadata": {
        "id": "2lj23bZtuB2M"
      },
      "execution_count": null,
      "outputs": []
    },
    {
      "cell_type": "code",
      "source": [
        "# New WCGAN\n",
        "old_folder = \"/content/drive/My Drive/old_folder\"\n",
        "cycled_old = '/content/drive/My Drive/BA_Updated_Results/WCGAN/Cycled_Old'"
      ],
      "metadata": {
        "id": "1O8rB5159EAm"
      },
      "execution_count": null,
      "outputs": []
    },
    {
      "cell_type": "code",
      "source": [
        "# New Percept\n",
        "old_folder = \"/content/drive/My Drive/old_folder\"\n",
        "cycled_old = '/content/drive/My Drive/BA_Updated_Results/Percept/Cycled_Old'"
      ],
      "metadata": {
        "id": "cPKSmntG9EKM"
      },
      "execution_count": null,
      "outputs": []
    },
    {
      "cell_type": "code",
      "source": [
        "# Reduced Noise\n",
        "old_folder = \"/content/drive/My Drive/old_folder\"\n",
        "cycled_old = '/content/drive/My Drive/BA_Updated_Results/Reduced_Noise/Cycled_Old'"
      ],
      "metadata": {
        "id": "X_Wanw159EVO"
      },
      "execution_count": null,
      "outputs": []
    },
    {
      "cell_type": "markdown",
      "source": [
        "## FID"
      ],
      "metadata": {
        "id": "x2nT5xJkg3Y-"
      }
    },
    {
      "cell_type": "markdown",
      "source": [
        "### Baseline (Baseline w/ Cross Entropy)"
      ],
      "metadata": {
        "id": "FZ9gZd_fRgOR"
      }
    },
    {
      "cell_type": "code",
      "source": [
        "score_clean = fid.compute_fid(old_folder, cycled_old, mode=\"clean\", num_workers=0)\n",
        "print(f\"clean-fid score for old images using baseline is {score_clean:.3f}\")"
      ],
      "metadata": {
        "colab": {
          "base_uri": "https://localhost:8080/"
        },
        "id": "__1q4gxrRie4",
        "outputId": "7a8e6a9c-db37-4523-87f3-12fe9bedacc5"
      },
      "execution_count": null,
      "outputs": [
        {
          "output_type": "stream",
          "name": "stdout",
          "text": [
            "compute FID between two folders\n",
            "Found 3617 images in the folder /content/drive/My Drive/old_folder\n"
          ]
        },
        {
          "output_type": "stream",
          "name": "stderr",
          "text": [
            "FID old_folder : 100%|██████████| 114/114 [01:10<00:00,  1.63it/s]\n"
          ]
        },
        {
          "output_type": "stream",
          "name": "stdout",
          "text": [
            "Found 3203 images in the folder /content/drive/My Drive/Cycled_Old_Baseline\n"
          ]
        },
        {
          "output_type": "stream",
          "name": "stderr",
          "text": [
            "FID Cycled_Old_Baseline : 100%|██████████| 101/101 [01:24<00:00,  1.20it/s]\n"
          ]
        },
        {
          "output_type": "stream",
          "name": "stdout",
          "text": [
            "clean-fid score for old images using baseline is 63.850\n"
          ]
        }
      ]
    },
    {
      "cell_type": "code",
      "source": [
        "score_tf = fid.compute_fid(old_folder, cycled_old, mode=\"legacy_tensorflow\", num_workers=0)\n",
        "print(f\"legacy-tensorflow-fid score for old images using baseline is {score_tf:.3f}\")"
      ],
      "metadata": {
        "colab": {
          "base_uri": "https://localhost:8080/"
        },
        "id": "A7M9U3WSRoqM",
        "outputId": "c6a722cb-14c1-442d-ef25-26a83c0d04c9"
      },
      "execution_count": null,
      "outputs": [
        {
          "output_type": "stream",
          "name": "stdout",
          "text": [
            "compute FID between two folders\n",
            "Found 3617 images in the folder /content/drive/My Drive/old_folder\n"
          ]
        },
        {
          "output_type": "stream",
          "name": "stderr",
          "text": [
            "FID old_folder : 100%|██████████| 114/114 [00:36<00:00,  3.14it/s]\n"
          ]
        },
        {
          "output_type": "stream",
          "name": "stdout",
          "text": [
            "Found 3203 images in the folder /content/drive/My Drive/Cycled_Old_Baseline\n"
          ]
        },
        {
          "output_type": "stream",
          "name": "stderr",
          "text": [
            "FID Cycled_Old_Baseline : 100%|██████████| 101/101 [00:31<00:00,  3.18it/s]\n"
          ]
        },
        {
          "output_type": "stream",
          "name": "stdout",
          "text": [
            "legacy-tensorflow-fid score for old images using baseline is 60.416\n"
          ]
        }
      ]
    },
    {
      "cell_type": "markdown",
      "source": [
        "### Updated (Least Square GAN + SN + Label Smoothing)"
      ],
      "metadata": {
        "id": "QTiL4QMgp_vC"
      }
    },
    {
      "cell_type": "code",
      "source": [
        "score_clean = fid.compute_fid(old_folder, cycled_old, mode=\"clean\", num_workers=0)\n",
        "print(f\"clean-fid score for old images using updated is {score_clean:.3f}\")"
      ],
      "metadata": {
        "colab": {
          "base_uri": "https://localhost:8080/"
        },
        "id": "BHPZJF0lqBcn",
        "outputId": "077663c4-206b-4ee7-b86b-5b58d2b39987"
      },
      "execution_count": null,
      "outputs": [
        {
          "output_type": "stream",
          "name": "stdout",
          "text": [
            "compute FID between two folders\n",
            "Found 3617 images in the folder /content/drive/My Drive/old_folder\n"
          ]
        },
        {
          "output_type": "stream",
          "name": "stderr",
          "text": [
            "FID old_folder : 100%|██████████| 114/114 [01:09<00:00,  1.65it/s]\n"
          ]
        },
        {
          "output_type": "stream",
          "name": "stdout",
          "text": [
            "Found 3617 images in the folder /content/drive/My Drive/Cycled_Old_Updated\n"
          ]
        },
        {
          "output_type": "stream",
          "name": "stderr",
          "text": [
            "FID Cycled_Old_Updated : 100%|██████████| 114/114 [01:23<00:00,  1.37it/s]\n"
          ]
        },
        {
          "output_type": "stream",
          "name": "stdout",
          "text": [
            "clean-fid score for old images using updated is 58.763\n"
          ]
        }
      ]
    },
    {
      "cell_type": "code",
      "source": [
        "score_tf = fid.compute_fid(old_folder, cycled_old, mode=\"legacy_tensorflow\", num_workers=0)\n",
        "print(f\"legacy-tensorflow-fid score for old images using updated is {score_tf:.3f}\")"
      ],
      "metadata": {
        "colab": {
          "base_uri": "https://localhost:8080/"
        },
        "id": "kCFNH7rvqDo9",
        "outputId": "fbd29d76-3046-42dc-efd3-f2e1fdbc25b6"
      },
      "execution_count": null,
      "outputs": [
        {
          "output_type": "stream",
          "name": "stdout",
          "text": [
            "compute FID between two folders\n",
            "Found 3617 images in the folder /content/drive/My Drive/old_folder\n"
          ]
        },
        {
          "output_type": "stream",
          "name": "stderr",
          "text": [
            "FID old_folder : 100%|██████████| 114/114 [00:33<00:00,  3.45it/s]\n"
          ]
        },
        {
          "output_type": "stream",
          "name": "stdout",
          "text": [
            "Found 3617 images in the folder /content/drive/My Drive/Cycled_Old_Updated\n"
          ]
        },
        {
          "output_type": "stream",
          "name": "stderr",
          "text": [
            "FID Cycled_Old_Updated : 100%|██████████| 114/114 [00:13<00:00,  8.62it/s]\n"
          ]
        },
        {
          "output_type": "stream",
          "name": "stdout",
          "text": [
            "legacy-tensorflow-fid score for old images using updated is 59.373\n"
          ]
        }
      ]
    },
    {
      "cell_type": "markdown",
      "source": [
        "### Original (Baseline w/ MSE + Label Smoothing)"
      ],
      "metadata": {
        "id": "REGwReiLvw6L"
      }
    },
    {
      "cell_type": "code",
      "source": [
        "score_clean = fid.compute_fid(old_folder, cycled_old, mode=\"clean\", num_workers=0)\n",
        "print(f\"clean-fid score for old images using original is {score_clean:.3f}\")"
      ],
      "metadata": {
        "colab": {
          "base_uri": "https://localhost:8080/"
        },
        "id": "mKlRRQtHwX-o",
        "outputId": "cdc9713e-d1b6-44ee-dee2-c5af50b5cf84"
      },
      "execution_count": null,
      "outputs": [
        {
          "output_type": "stream",
          "name": "stdout",
          "text": [
            "compute FID between two folders\n",
            "Found 3617 images in the folder /content/drive/My Drive/old_folder\n"
          ]
        },
        {
          "output_type": "stream",
          "name": "stderr",
          "text": [
            "FID old_folder : 100%|██████████| 114/114 [01:06<00:00,  1.71it/s]\n"
          ]
        },
        {
          "output_type": "stream",
          "name": "stdout",
          "text": [
            "Found 3617 images in the folder /content/drive/My Drive/BA_results/ORIGINAL/old\n"
          ]
        },
        {
          "output_type": "stream",
          "name": "stderr",
          "text": [
            "FID old : 100%|██████████| 114/114 [01:09<00:00,  1.63it/s]\n"
          ]
        },
        {
          "output_type": "stream",
          "name": "stdout",
          "text": [
            "clean-fid score for old images using original is 70.558\n"
          ]
        }
      ]
    },
    {
      "cell_type": "code",
      "source": [
        "score_tf = fid.compute_fid(old_folder, cycled_old, mode=\"legacy_tensorflow\", num_workers=0)\n",
        "print(f\"legacy-tensorflow-fid score for old images using original is {score_tf:.3f}\")"
      ],
      "metadata": {
        "colab": {
          "base_uri": "https://localhost:8080/"
        },
        "id": "fwxPkET7wYGb",
        "outputId": "9933b234-a3fe-41bf-c428-8031eedbd019"
      },
      "execution_count": null,
      "outputs": [
        {
          "output_type": "stream",
          "name": "stdout",
          "text": [
            "compute FID between two folders\n",
            "Found 3617 images in the folder /content/drive/My Drive/old_folder\n"
          ]
        },
        {
          "output_type": "stream",
          "name": "stderr",
          "text": [
            "FID old_folder : 100%|██████████| 114/114 [00:34<00:00,  3.34it/s]\n"
          ]
        },
        {
          "output_type": "stream",
          "name": "stdout",
          "text": [
            "Found 3617 images in the folder /content/drive/My Drive/BA_results/ORIGINAL/old\n"
          ]
        },
        {
          "output_type": "stream",
          "name": "stderr",
          "text": [
            "FID old : 100%|██████████| 114/114 [00:13<00:00,  8.75it/s]\n"
          ]
        },
        {
          "output_type": "stream",
          "name": "stdout",
          "text": [
            "legacy-tensorflow-fid score for old images using original is 72.868\n"
          ]
        }
      ]
    },
    {
      "cell_type": "markdown",
      "source": [
        "### Percept"
      ],
      "metadata": {
        "id": "exmzKDtSvxNL"
      }
    },
    {
      "cell_type": "code",
      "source": [
        "score_clean = fid.compute_fid(old_folder, cycled_old, mode=\"clean\", num_workers=0)\n",
        "print(f\"clean-fid score for old images using percept is {score_clean:.3f}\")"
      ],
      "metadata": {
        "colab": {
          "base_uri": "https://localhost:8080/"
        },
        "id": "2Q7ofbr-wttc",
        "outputId": "54ba4d8f-00de-4769-c7e7-87d193241aa9"
      },
      "execution_count": null,
      "outputs": [
        {
          "output_type": "stream",
          "name": "stdout",
          "text": [
            "compute FID between two folders\n",
            "Found 3617 images in the folder /content/drive/My Drive/old_folder\n"
          ]
        },
        {
          "output_type": "stream",
          "name": "stderr",
          "text": [
            "FID old_folder : 100%|██████████| 114/114 [00:49<00:00,  2.33it/s]\n"
          ]
        },
        {
          "output_type": "stream",
          "name": "stdout",
          "text": [
            "Found 3617 images in the folder /content/drive/My Drive/BA_results/PERCEPT/old\n"
          ]
        },
        {
          "output_type": "stream",
          "name": "stderr",
          "text": [
            "FID old : 100%|██████████| 114/114 [01:03<00:00,  1.80it/s]\n"
          ]
        },
        {
          "output_type": "stream",
          "name": "stdout",
          "text": [
            "clean-fid score for old images using percept is 289.375\n"
          ]
        }
      ]
    },
    {
      "cell_type": "code",
      "source": [
        "score_tf = fid.compute_fid(old_folder, cycled_old, mode=\"legacy_tensorflow\", num_workers=0)\n",
        "print(f\"legacy-tensorflow-fid score for old images using percept is {score_tf:.3f}\")"
      ],
      "metadata": {
        "colab": {
          "base_uri": "https://localhost:8080/"
        },
        "id": "WUQBBYInwt2M",
        "outputId": "9f9b4d26-677e-43d5-bd6d-a62815b39a7b"
      },
      "execution_count": null,
      "outputs": [
        {
          "output_type": "stream",
          "name": "stdout",
          "text": [
            "compute FID between two folders\n",
            "Found 3617 images in the folder /content/drive/My Drive/old_folder\n"
          ]
        },
        {
          "output_type": "stream",
          "name": "stderr",
          "text": [
            "FID old_folder : 100%|██████████| 114/114 [00:35<00:00,  3.19it/s]\n"
          ]
        },
        {
          "output_type": "stream",
          "name": "stdout",
          "text": [
            "Found 3617 images in the folder /content/drive/My Drive/BA_results/PERCEPT/old\n"
          ]
        },
        {
          "output_type": "stream",
          "name": "stderr",
          "text": [
            "FID old : 100%|██████████| 114/114 [00:35<00:00,  3.24it/s]\n"
          ]
        },
        {
          "output_type": "stream",
          "name": "stdout",
          "text": [
            "legacy-tensorflow-fid score for old images using percept is 289.969\n"
          ]
        }
      ]
    },
    {
      "cell_type": "markdown",
      "source": [
        "### WCGAN"
      ],
      "metadata": {
        "id": "Lc6RtDXWvxaW"
      }
    },
    {
      "cell_type": "code",
      "source": [
        "score_clean = fid.compute_fid(old_folder, cycled_old, mode=\"clean\", num_workers=0)\n",
        "print(f\"clean-fid score for old images using WCGAN is {score_clean:.3f}\")"
      ],
      "metadata": {
        "id": "RvIICbgRw19P",
        "colab": {
          "base_uri": "https://localhost:8080/"
        },
        "outputId": "4b8b6c0b-fc42-46d5-844e-62b18cc6c7b0"
      },
      "execution_count": null,
      "outputs": [
        {
          "output_type": "stream",
          "name": "stdout",
          "text": [
            "compute FID between two folders\n",
            "Found 3617 images in the folder /content/drive/My Drive/old_folder\n"
          ]
        },
        {
          "output_type": "stream",
          "name": "stderr",
          "text": [
            "FID old_folder : 100%|██████████| 114/114 [01:06<00:00,  1.71it/s]\n"
          ]
        },
        {
          "output_type": "stream",
          "name": "stdout",
          "text": [
            "Found 3617 images in the folder /content/drive/My Drive/BA_results/WCGAN/old\n"
          ]
        },
        {
          "output_type": "stream",
          "name": "stderr",
          "text": [
            "FID old : 100%|██████████| 114/114 [01:09<00:00,  1.63it/s]\n"
          ]
        },
        {
          "output_type": "stream",
          "name": "stdout",
          "text": [
            "clean-fid score for old images using WCGAN is 283.205\n"
          ]
        }
      ]
    },
    {
      "cell_type": "code",
      "source": [
        "score_tf = fid.compute_fid(old_folder, cycled_old, mode=\"legacy_tensorflow\", num_workers=0)\n",
        "print(f\"legacy-tensorflow-fid score for old images using WCGAN is {score_tf:.3f}\")"
      ],
      "metadata": {
        "id": "eRR8p1akw2Ff",
        "colab": {
          "base_uri": "https://localhost:8080/"
        },
        "outputId": "fe845939-49ee-492a-f169-cc0334215dea"
      },
      "execution_count": null,
      "outputs": [
        {
          "output_type": "stream",
          "name": "stdout",
          "text": [
            "compute FID between two folders\n",
            "Found 3617 images in the folder /content/drive/My Drive/old_folder\n"
          ]
        },
        {
          "output_type": "stream",
          "name": "stderr",
          "text": [
            "FID old_folder : 100%|██████████| 114/114 [00:36<00:00,  3.11it/s]\n"
          ]
        },
        {
          "output_type": "stream",
          "name": "stdout",
          "text": [
            "Found 3617 images in the folder /content/drive/My Drive/BA_results/WCGAN/old\n"
          ]
        },
        {
          "output_type": "stream",
          "name": "stderr",
          "text": [
            "FID old : 100%|██████████| 114/114 [00:13<00:00,  8.42it/s]\n"
          ]
        },
        {
          "output_type": "stream",
          "name": "stdout",
          "text": [
            "legacy-tensorflow-fid score for old images using WCGAN is 277.546\n"
          ]
        }
      ]
    },
    {
      "cell_type": "markdown",
      "source": [
        "### New WCGAN"
      ],
      "metadata": {
        "id": "lwIfWXjN9rN2"
      }
    },
    {
      "cell_type": "code",
      "source": [
        "score_clean = fid.compute_fid(old_folder, cycled_old, mode=\"clean\", num_workers=0)\n",
        "print(f\"clean-fid score for old images using new WCGAN is {score_clean:.3f}\")"
      ],
      "metadata": {
        "colab": {
          "base_uri": "https://localhost:8080/"
        },
        "id": "3ioYj2659tju",
        "outputId": "4dd51fad-a151-4696-933d-90d0acac30df"
      },
      "execution_count": null,
      "outputs": [
        {
          "output_type": "stream",
          "name": "stdout",
          "text": [
            "compute FID between two folders\n",
            "Found 3617 images in the folder /content/drive/My Drive/old_folder\n"
          ]
        },
        {
          "output_type": "stream",
          "name": "stderr",
          "text": [
            "FID old_folder : 100%|██████████| 114/114 [39:47<00:00, 20.94s/it]\n"
          ]
        },
        {
          "output_type": "stream",
          "name": "stdout",
          "text": [
            "Found 3617 images in the folder /content/drive/My Drive/BA_Updated_Results/WCGAN/Cycled_Old\n"
          ]
        },
        {
          "output_type": "stream",
          "name": "stderr",
          "text": [
            "FID Cycled_Old : 100%|██████████| 114/114 [01:36<00:00,  1.19it/s]\n"
          ]
        },
        {
          "output_type": "stream",
          "name": "stdout",
          "text": [
            "clean-fid score for old images using new WCGAN is 222.176\n"
          ]
        }
      ]
    },
    {
      "cell_type": "code",
      "source": [
        "score_tf = fid.compute_fid(old_folder, cycled_old, mode=\"legacy_tensorflow\", num_workers=0)\n",
        "print(f\"legacy-tensorflow-fid score for old images using new WCGAN is {score_tf:.3f}\")"
      ],
      "metadata": {
        "colab": {
          "base_uri": "https://localhost:8080/"
        },
        "id": "AjMgMbNh9tnj",
        "outputId": "84f31146-c26c-4e3b-e180-ecd80df995dd"
      },
      "execution_count": null,
      "outputs": [
        {
          "output_type": "stream",
          "name": "stdout",
          "text": [
            "compute FID between two folders\n",
            "Found 3617 images in the folder /content/drive/My Drive/old_folder\n"
          ]
        },
        {
          "output_type": "stream",
          "name": "stderr",
          "text": [
            "FID old_folder : 100%|██████████| 114/114 [00:37<00:00,  3.03it/s]\n"
          ]
        },
        {
          "output_type": "stream",
          "name": "stdout",
          "text": [
            "Found 3617 images in the folder /content/drive/My Drive/BA_Updated_Results/WCGAN/Cycled_Old\n"
          ]
        },
        {
          "output_type": "stream",
          "name": "stderr",
          "text": [
            "FID Cycled_Old : 100%|██████████| 114/114 [00:35<00:00,  3.18it/s]\n"
          ]
        },
        {
          "output_type": "stream",
          "name": "stdout",
          "text": [
            "legacy-tensorflow-fid score for old images using new WCGAN is 212.533\n"
          ]
        }
      ]
    },
    {
      "cell_type": "markdown",
      "source": [
        "### New Percept"
      ],
      "metadata": {
        "id": "1p-4B7td9rWW"
      }
    },
    {
      "cell_type": "code",
      "source": [
        "score_clean = fid.compute_fid(old_folder, cycled_old, mode=\"clean\", num_workers=0)\n",
        "print(f\"clean-fid score for old images using new Percept is {score_clean:.3f}\")"
      ],
      "metadata": {
        "colab": {
          "base_uri": "https://localhost:8080/"
        },
        "id": "_LOi5ZWb9zRi",
        "outputId": "ec8e10ff-3560-468e-a550-2a4c78cd63ba"
      },
      "execution_count": null,
      "outputs": [
        {
          "output_type": "stream",
          "name": "stdout",
          "text": [
            "compute FID between two folders\n",
            "Found 3617 images in the folder /content/drive/My Drive/old_folder\n"
          ]
        },
        {
          "output_type": "stream",
          "name": "stderr",
          "text": [
            "FID old_folder : 100%|██████████| 114/114 [00:36<00:00,  3.12it/s]\n"
          ]
        },
        {
          "output_type": "stream",
          "name": "stdout",
          "text": [
            "Found 3617 images in the folder /content/drive/My Drive/BA_Updated_Results/Percept/Cycled_Old\n"
          ]
        },
        {
          "output_type": "stream",
          "name": "stderr",
          "text": [
            "FID Cycled_Old : 100%|██████████| 114/114 [01:26<00:00,  1.33it/s]\n"
          ]
        },
        {
          "output_type": "stream",
          "name": "stdout",
          "text": [
            "clean-fid score for old images using new Percept is 62.358\n"
          ]
        }
      ]
    },
    {
      "cell_type": "code",
      "source": [
        "score_tf = fid.compute_fid(old_folder, cycled_old, mode=\"legacy_tensorflow\", num_workers=0)\n",
        "print(f\"legacy-tensorflow-fid score for old images using new Percept is {score_tf:.3f}\")"
      ],
      "metadata": {
        "colab": {
          "base_uri": "https://localhost:8080/"
        },
        "id": "fiiOzRon9zYG",
        "outputId": "e14243e0-b131-4123-b9f4-2667912c0c0e"
      },
      "execution_count": null,
      "outputs": [
        {
          "output_type": "stream",
          "name": "stdout",
          "text": [
            "compute FID between two folders\n",
            "Found 3617 images in the folder /content/drive/My Drive/old_folder\n"
          ]
        },
        {
          "output_type": "stream",
          "name": "stderr",
          "text": [
            "FID old_folder : 100%|██████████| 114/114 [00:33<00:00,  3.44it/s]\n"
          ]
        },
        {
          "output_type": "stream",
          "name": "stdout",
          "text": [
            "Found 3617 images in the folder /content/drive/My Drive/BA_Updated_Results/Percept/Cycled_Old\n"
          ]
        },
        {
          "output_type": "stream",
          "name": "stderr",
          "text": [
            "FID Cycled_Old : 100%|██████████| 114/114 [00:13<00:00,  8.58it/s]\n"
          ]
        },
        {
          "output_type": "stream",
          "name": "stdout",
          "text": [
            "legacy-tensorflow-fid score for old images using new Percept is 61.995\n"
          ]
        }
      ]
    },
    {
      "cell_type": "markdown",
      "source": [
        "### Reduced Noise"
      ],
      "metadata": {
        "id": "njiewyNX9rgW"
      }
    },
    {
      "cell_type": "code",
      "source": [
        "score_clean = fid.compute_fid(old_folder, cycled_old, mode=\"clean\", num_workers=0)\n",
        "print(f\"clean-fid score for old images using reduced noise is {score_clean:.3f}\")"
      ],
      "metadata": {
        "colab": {
          "base_uri": "https://localhost:8080/"
        },
        "id": "rOk3_qSL96NH",
        "outputId": "04bebc43-bf75-45a2-d335-120293ffbcae"
      },
      "execution_count": null,
      "outputs": [
        {
          "output_type": "stream",
          "name": "stdout",
          "text": [
            "compute FID between two folders\n",
            "Found 3617 images in the folder /content/drive/My Drive/old_folder\n"
          ]
        },
        {
          "output_type": "stream",
          "name": "stderr",
          "text": [
            "FID old_folder : 100%|██████████| 114/114 [00:33<00:00,  3.40it/s]\n"
          ]
        },
        {
          "output_type": "stream",
          "name": "stdout",
          "text": [
            "Found 3617 images in the folder /content/drive/My Drive/BA_Updated_Results/Reduced_Noise/Cycled_Old\n"
          ]
        },
        {
          "output_type": "stream",
          "name": "stderr",
          "text": [
            "FID Cycled_Old : 100%|██████████| 114/114 [01:37<00:00,  1.17it/s]\n"
          ]
        },
        {
          "output_type": "stream",
          "name": "stdout",
          "text": [
            "clean-fid score for old images using reduced noise is 61.429\n"
          ]
        }
      ]
    },
    {
      "cell_type": "code",
      "source": [
        "score_tf = fid.compute_fid(old_folder, cycled_old, mode=\"legacy_tensorflow\", num_workers=0)\n",
        "print(f\"legacy-tensorflow-fid score for old images using reduced noise is {score_tf:.3f}\")"
      ],
      "metadata": {
        "colab": {
          "base_uri": "https://localhost:8080/"
        },
        "id": "dfWauZcS96Rr",
        "outputId": "4e83a1f8-fbb9-4074-e3b5-299e72d4869c"
      },
      "execution_count": null,
      "outputs": [
        {
          "output_type": "stream",
          "name": "stdout",
          "text": [
            "compute FID between two folders\n",
            "Found 3617 images in the folder /content/drive/My Drive/old_folder\n"
          ]
        },
        {
          "output_type": "stream",
          "name": "stderr",
          "text": [
            "FID old_folder : 100%|██████████| 114/114 [00:34<00:00,  3.32it/s]\n"
          ]
        },
        {
          "output_type": "stream",
          "name": "stdout",
          "text": [
            "Found 3617 images in the folder /content/drive/My Drive/BA_Updated_Results/Reduced_Noise/Cycled_Old\n"
          ]
        },
        {
          "output_type": "stream",
          "name": "stderr",
          "text": [
            "FID Cycled_Old : 100%|██████████| 114/114 [00:33<00:00,  3.42it/s]\n"
          ]
        },
        {
          "output_type": "stream",
          "name": "stdout",
          "text": [
            "legacy-tensorflow-fid score for old images using reduced noise is 60.182\n"
          ]
        }
      ]
    },
    {
      "cell_type": "markdown",
      "source": [
        "## KID"
      ],
      "metadata": {
        "id": "Bmi8DM3ahC6N"
      }
    },
    {
      "cell_type": "markdown",
      "source": [
        "### Baseline (Baseline w/ Cross Entropy)"
      ],
      "metadata": {
        "id": "spFZ1KN9R6Ac"
      }
    },
    {
      "cell_type": "code",
      "source": [
        "score_kid = fid.compute_kid(old_folder, cycled_old)\n",
        "print(f\"KID score for old images using baseline is {score_kid:.3f}\")"
      ],
      "metadata": {
        "colab": {
          "base_uri": "https://localhost:8080/"
        },
        "id": "q5Qmv8gGR7dg",
        "outputId": "a23dc4fe-7f23-4bbd-f3a6-8dfc34bab3af"
      },
      "execution_count": null,
      "outputs": [
        {
          "output_type": "stream",
          "name": "stdout",
          "text": [
            "compute KID between two folders\n",
            "Found 3617 images in the folder /content/drive/My Drive/old_folder\n"
          ]
        },
        {
          "output_type": "stream",
          "name": "stderr",
          "text": [
            "KID old_folder : 100%|██████████| 114/114 [00:09<00:00, 11.94it/s]\n"
          ]
        },
        {
          "output_type": "stream",
          "name": "stdout",
          "text": [
            "Found 3203 images in the folder /content/drive/My Drive/Cycled_Old_Baseline\n"
          ]
        },
        {
          "output_type": "stream",
          "name": "stderr",
          "text": [
            "KID Cycled_Old_Baseline : 100%|██████████| 101/101 [00:08<00:00, 11.28it/s]\n"
          ]
        },
        {
          "output_type": "stream",
          "name": "stdout",
          "text": [
            "KID score for old images using baseline is 0.059\n"
          ]
        }
      ]
    },
    {
      "cell_type": "markdown",
      "source": [
        "### Updated (Least Square GAN + SN + Label Smoothing)"
      ],
      "metadata": {
        "id": "Pj11c5YdquDB"
      }
    },
    {
      "cell_type": "code",
      "source": [
        "score_kid = fid.compute_kid(old_folder, cycled_old)\n",
        "print(f\"KID score for old images using updated is {score_kid:.3f}\")"
      ],
      "metadata": {
        "colab": {
          "base_uri": "https://localhost:8080/"
        },
        "id": "g3Be2yIQqvNb",
        "outputId": "f9f8af53-31f7-4948-e516-e7792a9e4f80"
      },
      "execution_count": null,
      "outputs": [
        {
          "output_type": "stream",
          "name": "stdout",
          "text": [
            "compute KID between two folders\n",
            "Found 3617 images in the folder /content/drive/My Drive/old_folder\n"
          ]
        },
        {
          "output_type": "stream",
          "name": "stderr",
          "text": [
            "KID old_folder : 100%|██████████| 114/114 [00:27<00:00,  4.10it/s]\n"
          ]
        },
        {
          "output_type": "stream",
          "name": "stdout",
          "text": [
            "Found 3617 images in the folder /content/drive/My Drive/Cycled_Old_Updated\n"
          ]
        },
        {
          "output_type": "stream",
          "name": "stderr",
          "text": [
            "KID Cycled_Old_Updated : 100%|██████████| 114/114 [00:29<00:00,  3.90it/s]\n"
          ]
        },
        {
          "output_type": "stream",
          "name": "stdout",
          "text": [
            "KID score for old images using updated is 0.047\n"
          ]
        }
      ]
    },
    {
      "cell_type": "markdown",
      "source": [
        "### Original (Baseline w/ MSE + Label Smoothing)"
      ],
      "metadata": {
        "id": "gDuM8OIZxMET"
      }
    },
    {
      "cell_type": "code",
      "source": [
        "score_kid = fid.compute_kid(old_folder, cycled_old)\n",
        "print(f\"KID score for old images using original is {score_kid:.3f}\")"
      ],
      "metadata": {
        "colab": {
          "base_uri": "https://localhost:8080/"
        },
        "id": "tBjkj6X0xSQS",
        "outputId": "28dc92a4-3827-40d1-d49b-9831cfb3b648"
      },
      "execution_count": null,
      "outputs": [
        {
          "output_type": "stream",
          "name": "stdout",
          "text": [
            "compute KID between two folders\n",
            "Found 3617 images in the folder /content/drive/My Drive/old_folder\n"
          ]
        },
        {
          "output_type": "stream",
          "name": "stderr",
          "text": [
            "KID old_folder : 100%|██████████| 114/114 [00:09<00:00, 12.06it/s]\n"
          ]
        },
        {
          "output_type": "stream",
          "name": "stdout",
          "text": [
            "Found 3617 images in the folder /content/drive/My Drive/BA_results/ORIGINAL/old\n"
          ]
        },
        {
          "output_type": "stream",
          "name": "stderr",
          "text": [
            "KID old : 100%|██████████| 114/114 [00:29<00:00,  3.92it/s]\n"
          ]
        },
        {
          "output_type": "stream",
          "name": "stdout",
          "text": [
            "KID score for old images using original is 0.073\n"
          ]
        }
      ]
    },
    {
      "cell_type": "markdown",
      "source": [
        "### Percept"
      ],
      "metadata": {
        "id": "1XgC3QGOxMOw"
      }
    },
    {
      "cell_type": "code",
      "source": [
        "score_kid = fid.compute_kid(old_folder, cycled_old)\n",
        "print(f\"KID score for old images using percept is {score_kid:.3f}\")"
      ],
      "metadata": {
        "colab": {
          "base_uri": "https://localhost:8080/"
        },
        "id": "c7o1lgWOxVld",
        "outputId": "265ccfa0-402d-4a8e-90e8-0cb415a30c83"
      },
      "execution_count": null,
      "outputs": [
        {
          "output_type": "stream",
          "name": "stdout",
          "text": [
            "compute KID between two folders\n",
            "Found 3617 images in the folder /content/drive/My Drive/old_folder\n"
          ]
        },
        {
          "output_type": "stream",
          "name": "stderr",
          "text": [
            "KID old_folder : 100%|██████████| 114/114 [00:09<00:00, 11.75it/s]\n"
          ]
        },
        {
          "output_type": "stream",
          "name": "stdout",
          "text": [
            "Found 3617 images in the folder /content/drive/My Drive/BA_results/PERCEPT/old\n"
          ]
        },
        {
          "output_type": "stream",
          "name": "stderr",
          "text": [
            "KID old : 100%|██████████| 114/114 [00:09<00:00, 11.83it/s]\n"
          ]
        },
        {
          "output_type": "stream",
          "name": "stdout",
          "text": [
            "KID score for old images using percept is 0.372\n"
          ]
        }
      ]
    },
    {
      "cell_type": "markdown",
      "source": [
        "### WCGAN"
      ],
      "metadata": {
        "id": "jUSuCAAYxMZ7"
      }
    },
    {
      "cell_type": "code",
      "source": [
        "score_kid = fid.compute_kid(old_folder, cycled_old)\n",
        "print(f\"KID score for old images using WCGAN is {score_kid:.3f}\")"
      ],
      "metadata": {
        "id": "JATvns7exXQh",
        "colab": {
          "base_uri": "https://localhost:8080/"
        },
        "outputId": "9a24b7de-b000-4af4-952c-4c76fd2fdbf5"
      },
      "execution_count": null,
      "outputs": [
        {
          "output_type": "stream",
          "name": "stdout",
          "text": [
            "compute KID between two folders\n",
            "Found 3617 images in the folder /content/drive/My Drive/old_folder\n"
          ]
        },
        {
          "output_type": "stream",
          "name": "stderr",
          "text": [
            "KID old_folder : 100%|██████████| 114/114 [00:09<00:00, 11.90it/s]\n"
          ]
        },
        {
          "output_type": "stream",
          "name": "stdout",
          "text": [
            "Found 3617 images in the folder /content/drive/My Drive/BA_results/WCGAN/old\n"
          ]
        },
        {
          "output_type": "stream",
          "name": "stderr",
          "text": [
            "KID old : 100%|██████████| 114/114 [00:29<00:00,  3.86it/s]\n"
          ]
        },
        {
          "output_type": "stream",
          "name": "stdout",
          "text": [
            "KID score for old images using WCGAN is 0.365\n"
          ]
        }
      ]
    },
    {
      "cell_type": "markdown",
      "source": [
        "### New WCGAN"
      ],
      "metadata": {
        "id": "Jnts1Wnm-CHh"
      }
    },
    {
      "cell_type": "code",
      "source": [
        "score_kid = fid.compute_kid(old_folder, cycled_old)\n",
        "print(f\"KID score for old images using new WCGAN is {score_kid:.3f}\")"
      ],
      "metadata": {
        "colab": {
          "base_uri": "https://localhost:8080/"
        },
        "id": "8UY2Uu4a-EdE",
        "outputId": "8890b88d-60b5-4765-b2de-174be802ab04"
      },
      "execution_count": null,
      "outputs": [
        {
          "output_type": "stream",
          "name": "stdout",
          "text": [
            "compute KID between two folders\n",
            "Found 3617 images in the folder /content/drive/My Drive/old_folder\n"
          ]
        },
        {
          "output_type": "stream",
          "name": "stderr",
          "text": [
            "KID old_folder : 100%|██████████| 114/114 [00:09<00:00, 12.06it/s]\n"
          ]
        },
        {
          "output_type": "stream",
          "name": "stdout",
          "text": [
            "Found 3617 images in the folder /content/drive/My Drive/BA_Updated_Results/WCGAN/Cycled_Old\n"
          ]
        },
        {
          "output_type": "stream",
          "name": "stderr",
          "text": [
            "KID Cycled_Old : 100%|██████████| 114/114 [00:09<00:00, 12.11it/s]\n"
          ]
        },
        {
          "output_type": "stream",
          "name": "stdout",
          "text": [
            "KID score for old images using new WCGAN is 0.262\n"
          ]
        }
      ]
    },
    {
      "cell_type": "markdown",
      "source": [
        "### New Percept"
      ],
      "metadata": {
        "id": "_n1w_NPu-CN5"
      }
    },
    {
      "cell_type": "code",
      "source": [
        "score_kid = fid.compute_kid(old_folder, cycled_old)\n",
        "print(f\"KID score for old images using new Percept is {score_kid:.3f}\")"
      ],
      "metadata": {
        "colab": {
          "base_uri": "https://localhost:8080/"
        },
        "id": "wk7d1l1r-Iyz",
        "outputId": "c27aec8f-cc86-453a-cdf8-2c0fcfce65c8"
      },
      "execution_count": null,
      "outputs": [
        {
          "output_type": "stream",
          "name": "stdout",
          "text": [
            "compute KID between two folders\n",
            "Found 3617 images in the folder /content/drive/My Drive/old_folder\n"
          ]
        },
        {
          "output_type": "stream",
          "name": "stderr",
          "text": [
            "KID old_folder : 100%|██████████| 114/114 [00:25<00:00,  4.46it/s]\n"
          ]
        },
        {
          "output_type": "stream",
          "name": "stdout",
          "text": [
            "Found 3617 images in the folder /content/drive/My Drive/BA_Updated_Results/Percept/Cycled_Old\n"
          ]
        },
        {
          "output_type": "stream",
          "name": "stderr",
          "text": [
            "KID Cycled_Old : 100%|██████████| 114/114 [00:28<00:00,  3.95it/s]\n"
          ]
        },
        {
          "output_type": "stream",
          "name": "stdout",
          "text": [
            "KID score for old images using new Percept is 0.049\n"
          ]
        }
      ]
    },
    {
      "cell_type": "markdown",
      "source": [
        "### Reduced Noise"
      ],
      "metadata": {
        "id": "gFIYYWxR-CUy"
      }
    },
    {
      "cell_type": "code",
      "source": [
        "score_kid = fid.compute_kid(old_folder, cycled_old)\n",
        "print(f\"KID score for old images using reduced noise is {score_kid:.3f}\")"
      ],
      "metadata": {
        "colab": {
          "base_uri": "https://localhost:8080/"
        },
        "id": "zf8u2409-MxE",
        "outputId": "aa42658a-77cf-433f-dd18-7909e14a8da4"
      },
      "execution_count": null,
      "outputs": [
        {
          "output_type": "stream",
          "name": "stdout",
          "text": [
            "compute KID between two folders\n",
            "Found 3617 images in the folder /content/drive/My Drive/old_folder\n"
          ]
        },
        {
          "output_type": "stream",
          "name": "stderr",
          "text": [
            "KID old_folder : 100%|██████████| 114/114 [00:09<00:00, 11.89it/s]\n"
          ]
        },
        {
          "output_type": "stream",
          "name": "stdout",
          "text": [
            "Found 3617 images in the folder /content/drive/My Drive/BA_Updated_Results/Reduced_Noise/Cycled_Old\n"
          ]
        },
        {
          "output_type": "stream",
          "name": "stderr",
          "text": [
            "KID Cycled_Old : 100%|██████████| 114/114 [00:09<00:00, 12.05it/s]\n"
          ]
        },
        {
          "output_type": "stream",
          "name": "stdout",
          "text": [
            "KID score for old images using reduced noise is 0.052\n"
          ]
        }
      ]
    }
  ]
}