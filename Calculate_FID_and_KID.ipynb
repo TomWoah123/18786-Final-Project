{
  "nbformat": 4,
  "nbformat_minor": 0,
  "metadata": {
    "colab": {
      "provenance": []
    },
    "kernelspec": {
      "name": "python3",
      "display_name": "Python 3"
    },
    "language_info": {
      "name": "python"
    }
  },
  "cells": [
    {
      "cell_type": "markdown",
      "source": [
        "## Mount Drive to access generation results (optional)"
      ],
      "metadata": {
        "id": "HeFikS1--b_m"
      }
    },
    {
      "cell_type": "code",
      "source": [
        "from google.colab import drive\n",
        "drive.mount('/content/drive')"
      ],
      "metadata": {
        "id": "LdX1zMJN-cxN"
      },
      "execution_count": null,
      "outputs": []
    },
    {
      "cell_type": "code",
      "source": [
        "drive_path = '/content/drive/My Drive/'\n",
        "\n",
        "# Fill these with folder names\n",
        "real_images_folder =\n",
        "generated_images_folder =\n",
        "\n",
        "real_images_path = drive_path + real_images_folder\n",
        "generated_images_path = drive_path + generated_images_folder"
      ],
      "metadata": {
        "id": "Ld483QcF-rEY"
      },
      "execution_count": null,
      "outputs": []
    },
    {
      "cell_type": "markdown",
      "source": [
        "If the folders are directly under \"content\" of current runtime, use those paths"
      ],
      "metadata": {
        "id": "ngylsEKU_W2h"
      }
    },
    {
      "cell_type": "markdown",
      "source": [
        "Following code was taken from: https://github.com/GaParmar/clean-fid?tab=readme-ov-file"
      ],
      "metadata": {
        "id": "PRAJFIua_7Gb"
      }
    },
    {
      "cell_type": "markdown",
      "source": [
        "## Install the Clean-FID package"
      ],
      "metadata": {
        "id": "2XQyztvK-QSh"
      }
    },
    {
      "cell_type": "code",
      "execution_count": null,
      "metadata": {
        "id": "l6ey9uow-Mf-"
      },
      "outputs": [],
      "source": [
        "! pip install clean-fid"
      ]
    },
    {
      "cell_type": "markdown",
      "source": [
        "## Calculate FID"
      ],
      "metadata": {
        "id": "KFNvWi6q_klD"
      }
    },
    {
      "cell_type": "markdown",
      "source": [
        "Some notes before beginning: Recommended that the folders have at least 2048 samples (due to the dimension of model used for calculating the score)"
      ],
      "metadata": {
        "id": "mq-66dqhBg9h"
      }
    },
    {
      "cell_type": "code",
      "source": [
        "import numpy as np\n",
        "import cv2\n",
        "from cleanfid import fid"
      ],
      "metadata": {
        "id": "QaLfvN5U_2zq"
      },
      "execution_count": null,
      "outputs": []
    },
    {
      "cell_type": "markdown",
      "source": [
        "### Clean version"
      ],
      "metadata": {
        "id": "JmUeSMZT_obZ"
      }
    },
    {
      "cell_type": "markdown",
      "source": [
        "Without the problems occuring in the original FID implementation"
      ],
      "metadata": {
        "id": "kNk0v-j2_uUU"
      }
    },
    {
      "cell_type": "code",
      "source": [
        "score_clean = fid.compute_fid(real_images_path, generated_images_path, mode=\"clean\", num_workers=0)\n",
        "print(f\"clean-fid score is {score_clean:.3f}\")"
      ],
      "metadata": {
        "id": "bHPONKAu-WXK"
      },
      "execution_count": null,
      "outputs": []
    },
    {
      "cell_type": "markdown",
      "source": [
        "### Legacy version"
      ],
      "metadata": {
        "id": "vVv8HhKSAKcp"
      }
    },
    {
      "cell_type": "markdown",
      "source": [
        "Assumed to be referring to original implementation using Tensorflow: https://github.com/bioinf-jku/TTUR"
      ],
      "metadata": {
        "id": "GV2Ta4jgAMRQ"
      }
    },
    {
      "cell_type": "code",
      "source": [
        "score_tf = fid.compute_fid(real_images_path, generated_images_path, mode=\"legacy_tensorflow\", num_workers=0)\n",
        "print(f\"legacy-tensorflow-fid score is {score_tf:.3f}\")"
      ],
      "metadata": {
        "id": "Y6-WLCG-AX94"
      },
      "execution_count": null,
      "outputs": []
    },
    {
      "cell_type": "markdown",
      "source": [
        "## Calculate KID"
      ],
      "metadata": {
        "id": "OiVRou1eAiFR"
      }
    },
    {
      "cell_type": "markdown",
      "source": [
        "Some note before starting: Compared to FID, told to be unbiased and works better with smaller sample sizes"
      ],
      "metadata": {
        "id": "UHBrFgUbBwGW"
      }
    },
    {
      "cell_type": "code",
      "source": [
        "from cleanfid import fid\n",
        "score_kid = fid.compute_kid(real_images_path, generated_images_path)\n",
        "print(f\"KID score is {score_kid:.3f}\")"
      ],
      "metadata": {
        "id": "E5DwnNoCAkFm"
      },
      "execution_count": null,
      "outputs": []
    }
  ]
}